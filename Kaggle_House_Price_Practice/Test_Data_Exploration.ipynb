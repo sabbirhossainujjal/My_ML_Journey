{
 "cells": [
  {
   "cell_type": "code",
   "execution_count": 1,
   "metadata": {},
   "outputs": [],
   "source": [
    "import numpy as np\n",
    "import pandas as pd\n",
    "import math \n",
    "import random"
   ]
  },
  {
   "cell_type": "code",
   "execution_count": 2,
   "metadata": {
    "tags": []
   },
   "outputs": [],
   "source": [
    "#reading data form csv\n",
    "train_path='train.csv'\n",
    "test_path='test.csv'\n",
    "train_raw_data=pd.read_csv(train_path)\n",
    "test_raw_data=pd.read_csv(test_path)\n",
    "#print(test_raw_data)"
   ]
  },
  {
   "cell_type": "code",
   "execution_count": 3,
   "metadata": {},
   "outputs": [],
   "source": [
    "# extracting train labels and train data witout labels\n",
    "\n",
    "Y_labels=train_raw_data['SalePrice'].copy()\n",
    "train_raw_data=train_raw_data.drop(['SalePrice'],axis=1) # axis=1 for vertically axis=0 for horizontally\n",
    "\n",
    "Y_labels.to_csv('Y_labels.csv',index=False)"
   ]
  },
  {
   "cell_type": "code",
   "execution_count": 5,
   "metadata": {
    "tags": []
   },
   "outputs": [],
   "source": [
    "# finding the null containing cell\n",
    "V=test_raw_data.isnull().sum()\n",
    "#V.to_csv('V.csv',index=True)"
   ]
  },
  {
   "cell_type": "code",
   "execution_count": 6,
   "metadata": {},
   "outputs": [
    {
     "data": {
      "text/plain": [
       "np.int64(1)"
      ]
     },
     "execution_count": 6,
     "metadata": {},
     "output_type": "execute_result"
    }
   ],
   "source": [
    "#visualing data\n",
    "test_raw_data.MSSubClass.unique()\n",
    "test_raw_data.MSSubClass.unique()\n",
    "test_raw_data.SaleType.isnull().sum()\n"
   ]
  },
  {
   "cell_type": "code",
   "execution_count": 7,
   "metadata": {
    "tags": []
   },
   "outputs": [],
   "source": [
    "# maping data to numerical value \n",
    " ###SaleType\n",
    "test_raw_data.SaleType.isnull().sum()\n",
    "test_raw_data.SaleType.unique()\n",
    "test_raw_data['SaleType']=test_raw_data['SaleType'].fillna(test_raw_data['SaleType'].value_counts().index[0])\n",
    "\n",
    "test_raw_data.SaleType.isnull().sum()\n",
    "test_raw_data['SaleType']=test_raw_data['SaleType'].map({ 'WD':10, 'CWD':9, 'VWD':8,'New':7, 'COD':6, 'Con':5, 'ConLw':4,'ConLI':3, 'ConLD':2, 'Oth':1})\n",
    "#print(test_raw_data['SaleType'])"
   ]
  },
  {
   "cell_type": "code",
   "execution_count": 8,
   "metadata": {
    "tags": []
   },
   "outputs": [],
   "source": [
    "###SaleCondition\n",
    "test_raw_data.SaleCondition.isnull().sum()\n",
    "test_raw_data.SaleCondition.unique()\n",
    "test_raw_data['SaleCondition']=test_raw_data.SaleCondition.map({ 'Normal': 6, 'Abnorml':1, 'AdjLand':5 ,'Alloca':3, 'Family':4, 'Partial':2})\n",
    "\n",
    "#print(test_raw_data['SaleCondition'])"
   ]
  },
  {
   "cell_type": "code",
   "execution_count": 9,
   "metadata": {
    "tags": []
   },
   "outputs": [
    {
     "data": {
      "text/plain": [
       "np.int64(0)"
      ]
     },
     "execution_count": 9,
     "metadata": {},
     "output_type": "execute_result"
    }
   ],
   "source": [
    "###MSSubClass (Buliding type  (Identifies the type of dwelling involved in the sale))\n",
    "test_raw_data.MSSubClass.isnull().sum()   #Already in neumerical \n"
   ]
  },
  {
   "cell_type": "code",
   "execution_count": 10,
   "metadata": {},
   "outputs": [],
   "source": [
    "###LotConfig\n",
    "test_raw_data.LotConfig.isnull().sum()\n",
    "test_raw_data['LotConfig']=test_raw_data.LotConfig.map({'Inside':2,'Corner':1,'CulDSac':6,'FR2':5,'FR3':4})"
   ]
  },
  {
   "cell_type": "code",
   "execution_count": 11,
   "metadata": {},
   "outputs": [
    {
     "data": {
      "text/plain": [
       "np.int64(0)"
      ]
     },
     "execution_count": 11,
     "metadata": {},
     "output_type": "execute_result"
    }
   ],
   "source": [
    "###BldgType (type of dwelling)(quite similar to buliding type)\n",
    "test_raw_data.BldgType.isnull().sum()\n",
    "test_raw_data.BldgType.unique()\n",
    "test_raw_data[\"BldgType\"]=test_raw_data.BldgType.map({\"1Fam\":65,\"2fmCon\":70,\"Duplex\":75,'TwnhsE':85,'Twnhs':80})\n",
    "test_raw_data['BldgType'].isnull().sum()"
   ]
  },
  {
   "cell_type": "code",
   "execution_count": 12,
   "metadata": {},
   "outputs": [],
   "source": [
    "###HouseStyle  (style of dwelling (room architecture))\n",
    "test_raw_data.HouseStyle.isnull().sum()\n",
    "test_raw_data.HouseStyle.unique()\n",
    "test_raw_data['HouseStyle']=test_raw_data.HouseStyle.map({\"1Story\":50,\"1.5Fin\":75, \"2Story\":80,\"2.5Fin\":100,\"2.5Unf\":90,\"1.5Unf\":70,\"SFoyer\":65,'SLvl':55})"
   ]
  },
  {
   "cell_type": "code",
   "execution_count": 13,
   "metadata": {},
   "outputs": [
    {
     "data": {
      "text/plain": [
       "np.int64(0)"
      ]
     },
     "execution_count": 13,
     "metadata": {},
     "output_type": "execute_result"
    }
   ],
   "source": [
    "### Room information\n",
    "#BedroomAbvGr (Bedrooms number)\n",
    "test_raw_data['BedroomAbvGr'].isnull().sum()  #already in number\n",
    "test_raw_data['TotRmsAbvGrd'].isnull().sum()  #already in number\n",
    "#Kitchen\n",
    "test_raw_data['KitchenAbvGr'].isnull().sum()  #already in number\n",
    "test_raw_data['KitchenQual'].isnull().sum()\n",
    "test_raw_data['KitchenQual']=test_raw_data['KitchenQual'].fillna(test_raw_data['KitchenQual'].value_counts().index[0])\n",
    "test_raw_data['KitchenQual'].unique()\n",
    "\n",
    "test_raw_data['KitchenQual']=test_raw_data['KitchenQual'].map({\"Ex\":5,\"Gd\":4,\"TA\":3,\"Fa\":2,\"Po\":1})\n",
    "test_raw_data['KitchenQual'].isnull().sum()\n",
    "\n",
    "###Baths\n",
    "test_raw_data['FullBath'].isnull().sum()\n",
    "test_raw_data['HalfBath'].isnull().sum()\n",
    "\n",
    "##marging Baths\n",
    "test_raw_data['TotalBaths']=test_raw_data['FullBath']+0.5*test_raw_data['HalfBath']\n",
    "test_raw_data=test_raw_data.drop(['FullBath','HalfBath'],axis=1)\n",
    "\n",
    "test_raw_data['TotalBaths'].isnull().sum()"
   ]
  },
  {
   "cell_type": "code",
   "execution_count": 14,
   "metadata": {},
   "outputs": [],
   "source": [
    "### RoofStyle (type of roof)\n",
    "test_raw_data.RoofStyle.isnull().sum()\n",
    "test_raw_data.RoofStyle.unique()\n",
    "test_raw_data['RoofStyle']=test_raw_data.RoofStyle.map({'Flat':4,'Gable':3,'Gambrel':2,'Hip':5,'Mansard':6,'Shed':1})"
   ]
  },
  {
   "cell_type": "code",
   "execution_count": 15,
   "metadata": {},
   "outputs": [],
   "source": [
    "### RoofMatl  (roof material)\n",
    "test_raw_data.RoofMatl.isnull().sum()\n",
    "test_raw_data.RoofMatl.unique()\n",
    "test_raw_data['RoofMatl']=test_raw_data.RoofMatl.map({'ClyTile':60,'CompShg':80,'Membran':40,'Metal':70,'Roll':65,'Tar&Grv':55,'WdShake':50,'WdShngl':45})"
   ]
  },
  {
   "cell_type": "code",
   "execution_count": 16,
   "metadata": {},
   "outputs": [
    {
     "data": {
      "text/plain": [
       "np.int64(0)"
      ]
     },
     "execution_count": 16,
     "metadata": {},
     "output_type": "execute_result"
    }
   ],
   "source": [
    "###Foundation (type of foundation)\n",
    "test_raw_data.Foundation.isnull().sum()\n",
    "test_raw_data.Foundation.unique()\n",
    "test_raw_data['Foundation']=test_raw_data.Foundation.map({'BrkTil':2,'CBlock':3,'PConc':4,'Slab':5,'Stone':6,'Wood':1})\n",
    "test_raw_data.Foundation.isnull().sum()"
   ]
  },
  {
   "cell_type": "code",
   "execution_count": 17,
   "metadata": {},
   "outputs": [
    {
     "data": {
      "text/plain": [
       "np.int64(0)"
      ]
     },
     "execution_count": 17,
     "metadata": {},
     "output_type": "execute_result"
    }
   ],
   "source": [
    "###BsmtQual (Height of the basement)   ###will not added to the features\n",
    "test_raw_data.BsmtQual.isnull().sum()\n",
    "test_raw_data.BsmtQual.unique()\n",
    "#imputing missing values with most frequent values\n",
    "test_raw_data['BsmtQual']=test_raw_data['BsmtQual'].fillna(test_raw_data['BsmtQual'].value_counts().index[0])\n",
    "test_raw_data.BsmtQual.unique()\n",
    "\n",
    "test_raw_data['BsmtQual']=test_raw_data.BsmtQual.map({'Ex':5,'Gd':4,'TA':3,'Fa':2, 'Po':1,'NA':0})\n",
    "test_raw_data.BsmtQual.isnull().sum()\n"
   ]
  },
  {
   "cell_type": "code",
   "execution_count": 18,
   "metadata": {},
   "outputs": [],
   "source": [
    "###BsmtCond  (general condition of the basement)   #will not added to the features\n",
    "test_raw_data.BsmtCond.isnull().sum()\n",
    "test_raw_data['BsmtCond']=test_raw_data['BsmtCond'].fillna(test_raw_data['BsmtCond'].value_counts().index[0])\n",
    "test_raw_data.BsmtCond.unique()\n",
    "\n",
    "test_raw_data['BsmtCond']=test_raw_data.BsmtCond.map({'Ex':5,'Gd':4,'TA':3,'Fa':2, 'Po':1,'NA':0})"
   ]
  },
  {
   "cell_type": "code",
   "execution_count": 19,
   "metadata": {},
   "outputs": [
    {
     "data": {
      "text/plain": [
       "np.int64(0)"
      ]
     },
     "execution_count": 19,
     "metadata": {},
     "output_type": "execute_result"
    }
   ],
   "source": [
    "###TotalBsmtSF \n",
    "test_raw_data.TotalBsmtSF.isnull().sum()\n",
    "test_raw_data['TotalBsmtSF']=test_raw_data['TotalBsmtSF'].fillna(test_raw_data['TotalBsmtSF'].median())\n",
    "test_raw_data.TotalBsmtSF.isnull().sum()"
   ]
  },
  {
   "cell_type": "code",
   "execution_count": 20,
   "metadata": {},
   "outputs": [],
   "source": [
    "### combining the basemet condition\n",
    "test_raw_data['BsmtCondComb']=test_raw_data['BsmtQual']*test_raw_data['BsmtCond']\n",
    "test_raw_data=test_raw_data.drop(['BsmtCond','BsmtQual'],axis=1)"
   ]
  },
  {
   "cell_type": "code",
   "execution_count": 21,
   "metadata": {},
   "outputs": [],
   "source": [
    "###Heating\n",
    "test_raw_data.Heating.isnull().sum()\n",
    "test_raw_data['Heating']=test_raw_data.Heating.map({'Floor':6,'GasA':3,'GasW':2,'Grav':5,'OthW':1,'Wall':4})\n",
    "\n"
   ]
  },
  {
   "cell_type": "code",
   "execution_count": 22,
   "metadata": {},
   "outputs": [],
   "source": [
    "#HeatingQC\n",
    "test_raw_data.HeatingQC.isnull().sum()\n",
    "test_raw_data['HeatingQC']=test_raw_data['HeatingQC'].map({'Ex':5,'Gd':4,'TA':3,'Fa':2,'Po':1})"
   ]
  },
  {
   "cell_type": "code",
   "execution_count": 23,
   "metadata": {},
   "outputs": [],
   "source": [
    "###marging Heating and HeatinQc\n",
    "test_raw_data['HeatingComb']=test_raw_data['Heating']*test_raw_data['HeatingQC']\n",
    "test_raw_data=test_raw_data.drop(['Heating','HeatingQC'],axis=1)"
   ]
  },
  {
   "cell_type": "code",
   "execution_count": 24,
   "metadata": {},
   "outputs": [],
   "source": [
    "###centralAir\n",
    "test_raw_data.CentralAir.isnull().sum()\n",
    "test_raw_data['CentralAir']=test_raw_data.CentralAir.map({'Y':1,'N':0})\n"
   ]
  },
  {
   "cell_type": "code",
   "execution_count": 25,
   "metadata": {},
   "outputs": [
    {
     "data": {
      "text/plain": [
       "np.int64(0)"
      ]
     },
     "execution_count": 25,
     "metadata": {},
     "output_type": "execute_result"
    }
   ],
   "source": [
    "###Fireplaces(number of fire places)\n",
    "test_raw_data.Fireplaces.isnull().sum()\n",
    "#already in numerical value"
   ]
  },
  {
   "cell_type": "code",
   "execution_count": 26,
   "metadata": {},
   "outputs": [
    {
     "data": {
      "text/plain": [
       "np.int64(0)"
      ]
     },
     "execution_count": 26,
     "metadata": {},
     "output_type": "execute_result"
    }
   ],
   "source": [
    "### FireplaceQu   ##\n",
    "test_raw_data.FireplaceQu.isnull().sum()\n",
    "test_raw_data['FireplaceQu']=test_raw_data['FireplaceQu'].fillna(test_raw_data['FireplaceQu'].value_counts().index[0])\n",
    "\n",
    "test_raw_data.FireplaceQu.isnull().sum()\n",
    "test_raw_data.FireplaceQu.unique()\n",
    "test_raw_data['FireplaceQu']=test_raw_data.FireplaceQu.map({'Ex':5,'Gd':4,'TA':3,'Fa':2,'Po':1,'NA':0})\n",
    "\n",
    "test_raw_data.FireplaceQu.isnull().sum()"
   ]
  },
  {
   "cell_type": "code",
   "execution_count": 27,
   "metadata": {},
   "outputs": [],
   "source": [
    "###marging  Fireplace info\n",
    "test_raw_data['FireplaceComb']=test_raw_data['Fireplaces']*test_raw_data['FireplaceQu']\n",
    "test_raw_data=test_raw_data.drop(['Fireplaces','FireplaceQu'],axis=1)"
   ]
  },
  {
   "cell_type": "code",
   "execution_count": 28,
   "metadata": {},
   "outputs": [
    {
     "data": {
      "text/plain": [
       "\"data=test_raw_data['Exterior2nd']\\nE2=pd.DataFrame(data=data)\\nE2.to_csv('E2.csv',index=True)\""
      ]
     },
     "execution_count": 28,
     "metadata": {},
     "output_type": "execute_result"
    }
   ],
   "source": [
    "# '''data=test_raw_data['Exterior2nd']\n",
    "# E2=pd.DataFrame(data=data)\n",
    "# E2.to_csv('E2.csv',index=True)'''"
   ]
  },
  {
   "cell_type": "code",
   "execution_count": 29,
   "metadata": {},
   "outputs": [
    {
     "data": {
      "text/plain": [
       "'V1=Y_labels,test_raw_data[\\'Exterior1st\\']\\nV1={\\n\"Y_label\":Y_labels,\\n\\'tr\\':test_raw_data[\\'Exterior1st\\']\\n}\\nv1=pd.DataFrame(data=V1)\\nv1.to_csv(\\'V1.csv\\')'"
      ]
     },
     "execution_count": 29,
     "metadata": {},
     "output_type": "execute_result"
    }
   ],
   "source": [
    "###Exterior1st & Exterior2nd\n",
    "test_raw_data.Exterior1st.isnull().sum()\n",
    "test_raw_data['Exterior1st']=test_raw_data['Exterior1st'].fillna(test_raw_data['Exterior1st'].value_counts().index[0])\n",
    "test_raw_data.Exterior2nd.isnull().sum()\n",
    "test_raw_data['Exterior2nd']=test_raw_data['Exterior2nd'].fillna(test_raw_data['Exterior2nd'].value_counts().index[0])\n",
    "test_raw_data.Exterior1st.unique()\n",
    "test_raw_data.Exterior2nd.unique()\n",
    "\n",
    "\n",
    "test_raw_data['Exterior1st']=test_raw_data.Exterior1st.map({'AsbShng':3,'AsphShn':12, 'BrkComm':7,'BrkFace':8,'CBlock':9,'CemntBd':10,'HdBoard':6,'ImStucc':16,'MetalSd':2,'Other':1,'Plywood':11,'PreCast':15,'Stone':13,'Stucco':17,'VinylSd':18,\"Wd Sdng\":4,'WdShing':5})\n",
    "test_raw_data.Exterior1st.isnull().sum()\n",
    "\n",
    "test_raw_data['Exterior2nd']=test_raw_data.Exterior2nd.map({'AsbShng':3,'AsphShn':12, \"Brk Cmn\":7,'BrkFace':8,'CBlock':9,\"CmentBd\":10,'HdBoard':6,'ImStucc':16,'MetalSd':2,'Other':1,'Plywood':11,'PreCast':15,'Stone':13,'Stucco':17,'VinylSd':18,'Wd Sdng':4,'Wd Shng':5})\n",
    "\n",
    "\n",
    "#test_raw_data.Exterior2nd.unique()\n",
    "test_raw_data.Exterior2nd.isnull().sum()\n",
    "\n",
    "### Adding up 2 exterior and droping the second\n",
    "test_raw_data[\"ExteriorComb\"]=test_raw_data['Exterior1st']+test_raw_data['Exterior2nd']\n",
    "\n",
    "#test_raw_data=test_raw_data.drop(['Exterior1st','Exterior2nd'],axis=1)\n",
    "\n",
    "test_raw_data['ExteriorComb'].isnull().sum()\n",
    "\n",
    "\n",
    "'''V1=Y_labels,test_raw_data['Exterior1st']\n",
    "V1={\n",
    "\"Y_label\":Y_labels,\n",
    "'tr':test_raw_data['Exterior1st']\n",
    "}\n",
    "v1=pd.DataFrame(data=V1)\n",
    "v1.to_csv('V1.csv')'''\n"
   ]
  },
  {
   "cell_type": "code",
   "execution_count": 30,
   "metadata": {},
   "outputs": [],
   "source": [
    "###ExterQual (Exterior material quality)\n",
    "test_raw_data.ExterQual.isnull().sum()\n",
    "test_raw_data.ExterQual.unique()\n",
    "test_raw_data['ExterQual']=test_raw_data.ExterQual.map({'Ex':5,'Gd':4,'TA':3,'Fa':2,'Po':1})\n"
   ]
  },
  {
   "cell_type": "code",
   "execution_count": 31,
   "metadata": {},
   "outputs": [],
   "source": [
    "#ExterCond (present condition of the exterior material)\n",
    "test_raw_data.ExterCond.isnull().sum()\n",
    "test_raw_data.ExterCond.unique()\n",
    "test_raw_data['ExterCond']=test_raw_data.ExterCond.map({'Ex':5,'Gd':4,'TA':3,'Fa':2,'Po':1})\n"
   ]
  },
  {
   "cell_type": "code",
   "execution_count": 32,
   "metadata": {},
   "outputs": [],
   "source": [
    "###ExterCondComb(ExteriorQual*ExteriorCond)\n",
    "\n",
    "test_raw_data['ExteriorCondComb']=test_raw_data['ExterCond']*test_raw_data['ExterQual']\n",
    "\n",
    "test_raw_data=test_raw_data.drop(['ExterQual','ExterCond'],axis=1)\n"
   ]
  },
  {
   "cell_type": "code",
   "execution_count": 33,
   "metadata": {},
   "outputs": [
    {
     "data": {
      "text/plain": [
       "np.int64(0)"
      ]
     },
     "execution_count": 33,
     "metadata": {},
     "output_type": "execute_result"
    }
   ],
   "source": [
    "### MasVnrType (masonary veneer type)\n",
    "test_raw_data.MasVnrType.isnull().sum()\n",
    "test_raw_data.MasVnrType.unique()\n",
    "test_raw_data['MasVnrType']=test_raw_data['MasVnrType'].fillna(test_raw_data['MasVnrType'].value_counts().index[0])\n",
    "\n",
    "#test_raw_data.MasVnrType.unique()\n",
    "test_raw_data['MasVnrType']=test_raw_data.MasVnrType.map({ 'BrkCmn':4,'BrkFace':3,'CBlock':2,'None':0,'Stone':5})\n",
    "test_raw_data.MasVnrType.isnull().sum()"
   ]
  },
  {
   "cell_type": "code",
   "execution_count": 34,
   "metadata": {
    "tags": []
   },
   "outputs": [
    {
     "data": {
      "text/plain": [
       "np.int64(0)"
      ]
     },
     "execution_count": 34,
     "metadata": {},
     "output_type": "execute_result"
    }
   ],
   "source": [
    "### MasVnrArea   \n",
    "test_raw_data.MasVnrArea.isnull().sum()  #need to find the missing value\n",
    "\n",
    "test_raw_data['MasVnrArea']=test_raw_data['MasVnrArea'].fillna(test_raw_data['MasVnrArea'].median())  \n",
    "\n",
    "#missing data is filled with median data\n",
    "#test_raw_data.MasVnrArea.unique()\n",
    "test_raw_data.MasVnrArea.isnull().sum() "
   ]
  },
  {
   "cell_type": "code",
   "execution_count": 35,
   "metadata": {},
   "outputs": [
    {
     "data": {
      "text/plain": [
       "\"### Overall External condition (ExterQual*ExterCond)\\ntest_raw_data['OverallExterCond']=test_raw_data['ExterQual']*test_raw_data['ExterCond']\""
      ]
     },
     "execution_count": 35,
     "metadata": {},
     "output_type": "execute_result"
    }
   ],
   "source": [
    "'''### Overall External condition (ExterQual*ExterCond)\n",
    "test_raw_data['OverallExterCond']=test_raw_data['ExterQual']*test_raw_data['ExterCond']'''\n",
    "\n"
   ]
  },
  {
   "cell_type": "code",
   "execution_count": 36,
   "metadata": {},
   "outputs": [
    {
     "data": {
      "text/plain": [
       "array([ 5,  6,  8,  7,  4,  9,  2,  3, 10,  1])"
      ]
     },
     "execution_count": 36,
     "metadata": {},
     "output_type": "execute_result"
    }
   ],
   "source": [
    "###OverallQual  (house quality)\n",
    "test_raw_data.OverallQual.isnull().sum()\n",
    "test_raw_data.OverallQual.unique()   #already in number"
   ]
  },
  {
   "cell_type": "code",
   "execution_count": 37,
   "metadata": {},
   "outputs": [
    {
     "data": {
      "text/plain": [
       "array([6, 5, 7, 8, 2, 9, 3, 4, 1])"
      ]
     },
     "execution_count": 37,
     "metadata": {},
     "output_type": "execute_result"
    }
   ],
   "source": [
    "### OverallCond (OVerall condition of the house)\n",
    "test_raw_data.OverallCond.isnull().sum()\n",
    "test_raw_data.OverallCond.unique()  #already in number"
   ]
  },
  {
   "cell_type": "code",
   "execution_count": 38,
   "metadata": {},
   "outputs": [],
   "source": [
    "###marging overallcond\n",
    "#OVerallCondComb\n",
    "test_raw_data['OverallCondComb']=test_raw_data['OverallQual']*test_raw_data['OverallCond']\n",
    "test_raw_data=test_raw_data.drop(['OverallQual','OverallCond'],axis=1)"
   ]
  },
  {
   "cell_type": "code",
   "execution_count": 39,
   "metadata": {
    "tags": []
   },
   "outputs": [
    {
     "data": {
      "text/plain": [
       "np.int64(0)"
      ]
     },
     "execution_count": 39,
     "metadata": {},
     "output_type": "execute_result"
    }
   ],
   "source": [
    "### Zonal sitution of the building\n",
    "test_raw_data.MSZoning.isnull().sum()\n",
    "test_raw_data['MSZoning']=test_raw_data['MSZoning'].fillna(test_raw_data['MSZoning'].value_counts().index[0])\n",
    "\n",
    "test_raw_data['MSZoning'].unique()\n",
    "test_raw_data.MSZoning=test_raw_data.MSZoning.map({ 'A':3, \"C (all)\":20, 'FV':1, 'I':15,'RH':4, 'RL':10,'RP':8,'RM':6})\n",
    "#print(test_raw_data.MSZoning)\n",
    "test_raw_data.MSZoning.isnull().sum()\n"
   ]
  },
  {
   "cell_type": "code",
   "execution_count": 40,
   "metadata": {},
   "outputs": [
    {
     "data": {
      "text/plain": [
       "np.int64(0)"
      ]
     },
     "execution_count": 40,
     "metadata": {},
     "output_type": "execute_result"
    }
   ],
   "source": [
    "##Lot Area\n",
    "test_raw_data.LotArea.isnull().sum()  ## already in numerical"
   ]
  },
  {
   "cell_type": "code",
   "execution_count": 41,
   "metadata": {
    "tags": []
   },
   "outputs": [],
   "source": [
    "###Lotshape (Property shape (checking irregualirity))\n",
    "test_raw_data.LotShape.isnull().sum()\n",
    "test_raw_data.LotShape.unique()\n",
    "test_raw_data['LotShape']=test_raw_data.LotShape.map({'Reg':5,'IR1':4,'IR2':2,'IR3':1})\n",
    "#print(test_raw_data['LotShape'])"
   ]
  },
  {
   "cell_type": "code",
   "execution_count": 42,
   "metadata": {},
   "outputs": [],
   "source": [
    "### LandCOntour (Flatness of the property neighbor)\n",
    "test_raw_data.LandContour.isnull().sum()\n",
    "test_raw_data.LandContour.unique()\n",
    "test_raw_data['LandContour']=test_raw_data.LandContour.map({ 'Lvl':4, 'Bnk':3, 'HLS':2,'Low':1})"
   ]
  },
  {
   "cell_type": "code",
   "execution_count": 43,
   "metadata": {},
   "outputs": [],
   "source": [
    "###LandSlope (Slope of the property land (indside the property) )\n",
    "test_raw_data.LandSlope.isnull().sum()\n",
    "test_raw_data.LandSlope.unique()\n",
    "test_raw_data['LandSlope']=test_raw_data['LandSlope'].map({'Gtl':3,'Mod':2,'Sev':1})"
   ]
  },
  {
   "cell_type": "code",
   "execution_count": 44,
   "metadata": {},
   "outputs": [
    {
     "data": {
      "text/plain": [
       "np.int64(1352)"
      ]
     },
     "execution_count": 44,
     "metadata": {},
     "output_type": "execute_result"
    }
   ],
   "source": [
    "##Alley access to the property (road acces)\n",
    "test_raw_data.Alley.isnull().sum()  ### need to find the missing values"
   ]
  },
  {
   "cell_type": "code",
   "execution_count": 45,
   "metadata": {},
   "outputs": [],
   "source": [
    "##Street type\n",
    "test_raw_data.Street.isnull().sum()\n",
    "test_raw_data.Street.unique()\n",
    "test_raw_data[\"Street\"]=test_raw_data.Street.map({ 'Grvl':1, 'Pave':2})"
   ]
  },
  {
   "cell_type": "code",
   "execution_count": 46,
   "metadata": {},
   "outputs": [],
   "source": [
    "###Utilities \n",
    "test_raw_data.Utilities.isnull().sum()\n",
    "test_raw_data['Utilities']=test_raw_data['Utilities'].fillna(test_raw_data['Utilities'].value_counts().index[0])\n",
    "test_raw_data.Utilities.isnull().sum()\n",
    "test_raw_data.Utilities.unique()\n",
    "test_raw_data['Utilities']=test_raw_data.Utilities.map({'AllPub':4,'NOSewr':3,'NoSeWa':2,'ELO':1})"
   ]
  },
  {
   "cell_type": "code",
   "execution_count": 47,
   "metadata": {},
   "outputs": [
    {
     "data": {
      "text/plain": [
       "np.int64(0)"
      ]
     },
     "execution_count": 47,
     "metadata": {},
     "output_type": "execute_result"
    }
   ],
   "source": [
    "###Elcetrical system\n",
    "test_raw_data['Electrical'].isnull().sum()\n",
    "test_raw_data['Electrical']=test_raw_data['Electrical'].fillna(test_raw_data['Electrical'].value_counts().index[0])\n",
    "\n",
    "test_raw_data.Electrical.unique()\n",
    "\n",
    "test_raw_data['Electrical']=test_raw_data['Electrical'].map({'SBrkr':6,'FuseA':4,'FuseF':3,'FuseP':2,'Mix':5})\n",
    "test_raw_data['Electrical'].isnull().sum()"
   ]
  },
  {
   "cell_type": "code",
   "execution_count": 48,
   "metadata": {},
   "outputs": [
    {
     "data": {
      "text/plain": [
       "np.int64(76)"
      ]
     },
     "execution_count": 48,
     "metadata": {},
     "output_type": "execute_result"
    }
   ],
   "source": [
    "##GarageType (garage location)\n",
    "test_raw_data.GarageType.isnull().sum()\n",
    "#test_raw_data['']"
   ]
  },
  {
   "cell_type": "code",
   "execution_count": 49,
   "metadata": {
    "tags": []
   },
   "outputs": [
    {
     "data": {
      "text/plain": [
       "np.int64(0)"
      ]
     },
     "execution_count": 49,
     "metadata": {},
     "output_type": "execute_result"
    }
   ],
   "source": [
    "###GrageArea\n",
    "test_raw_data.GarageArea.isnull().sum()\n",
    "test_raw_data['GarageArea']=test_raw_data['GarageArea'].fillna(test_raw_data['GarageArea'].median())\n",
    "test_raw_data.GarageArea.isnull().sum()\n",
    "#already in numerical"
   ]
  },
  {
   "cell_type": "code",
   "execution_count": 50,
   "metadata": {},
   "outputs": [
    {
     "data": {
      "text/plain": [
       "np.int64(78)"
      ]
     },
     "execution_count": 50,
     "metadata": {},
     "output_type": "execute_result"
    }
   ],
   "source": [
    "###GarageQual\n",
    "test_raw_data.GarageQual.isnull().sum()"
   ]
  },
  {
   "cell_type": "code",
   "execution_count": 51,
   "metadata": {},
   "outputs": [
    {
     "data": {
      "text/plain": [
       "np.int64(78)"
      ]
     },
     "execution_count": 51,
     "metadata": {},
     "output_type": "execute_result"
    }
   ],
   "source": [
    "###GarageCond\n",
    "test_raw_data.GarageCond.isnull().sum()"
   ]
  },
  {
   "cell_type": "code",
   "execution_count": 52,
   "metadata": {
    "tags": []
   },
   "outputs": [
    {
     "data": {
      "text/plain": [
       "np.int64(0)"
      ]
     },
     "execution_count": 52,
     "metadata": {},
     "output_type": "execute_result"
    }
   ],
   "source": [
    "###Deck Area\n",
    "test_raw_data.WoodDeckSF.isnull().sum()\n",
    "#print(test_raw_data.WoodDeckSF)"
   ]
  },
  {
   "cell_type": "code",
   "execution_count": 53,
   "metadata": {},
   "outputs": [],
   "source": [
    "### Total porcharea\n",
    "##OpenPorchSF, EnclosedPorch,3SsnPorch,ScreenPorch\n",
    "test_raw_data.OpenPorchSF.isnull().sum()\n",
    "test_raw_data.EnclosedPorch.isnull().sum()\n",
    "test_raw_data['3SsnPorch'].isnull().sum()\n",
    "test_raw_data['ScreenPorch'].isnull().sum()\n",
    "\n",
    "test_raw_data['TotalPorchArea']=test_raw_data['OpenPorchSF']+test_raw_data['EnclosedPorch']+test_raw_data['3SsnPorch']+test_raw_data['ScreenPorch']\n",
    "\n",
    "test_raw_data=test_raw_data.drop(['OpenPorchSF','3SsnPorch','ScreenPorch','EnclosedPorch'],axis=1)"
   ]
  },
  {
   "cell_type": "code",
   "execution_count": 54,
   "metadata": {},
   "outputs": [
    {
     "data": {
      "text/plain": [
       "np.int64(1456)"
      ]
     },
     "execution_count": 54,
     "metadata": {},
     "output_type": "execute_result"
    }
   ],
   "source": [
    "#pool and pool Qc\n",
    "test_raw_data.PoolArea.isnull().sum() \n",
    "test_raw_data.PoolQC.isnull().sum()  ####1453 data is missing so it is out of features\n"
   ]
  },
  {
   "cell_type": "code",
   "execution_count": 55,
   "metadata": {
    "tags": []
   },
   "outputs": [
    {
     "data": {
      "text/plain": [
       "np.int64(1408)"
      ]
     },
     "execution_count": 55,
     "metadata": {},
     "output_type": "execute_result"
    }
   ],
   "source": [
    "### MiscFeature\n",
    "test_raw_data.MiscFeature.isnull().sum()  ##will not add this"
   ]
  },
  {
   "cell_type": "code",
   "execution_count": 56,
   "metadata": {},
   "outputs": [
    {
     "data": {
      "text/plain": [
       "np.int64(0)"
      ]
     },
     "execution_count": 56,
     "metadata": {},
     "output_type": "execute_result"
    }
   ],
   "source": [
    "###MiscVal $vlaue of miscellaneous Feature\n",
    "test_raw_data.MiscVal.isnull().sum()"
   ]
  },
  {
   "cell_type": "code",
   "execution_count": 57,
   "metadata": {},
   "outputs": [
    {
     "data": {
      "text/plain": [
       "np.int64(1169)"
      ]
     },
     "execution_count": 57,
     "metadata": {},
     "output_type": "execute_result"
    }
   ],
   "source": [
    "###Fence\n",
    "test_raw_data.Fence.isnull().sum()  # need to find out the missing data  #till now leave it"
   ]
  },
  {
   "cell_type": "code",
   "execution_count": null,
   "metadata": {},
   "outputs": [],
   "source": []
  },
  {
   "cell_type": "code",
   "execution_count": 58,
   "metadata": {},
   "outputs": [],
   "source": [
    "###building new data frame\n",
    "New_test_data_frame={\n",
    "\n",
    "'MSZoning':test_raw_data['MSZoning'],\n",
    "'Street':test_raw_data['Street'],\n",
    "#'Alley':test_raw_data['Alley'],\n",
    "\n",
    "'MSSubClass':test_raw_data['MSSubClass'],\n",
    "'LotArea':test_raw_data['LotArea'],\n",
    "'LandSlope':test_raw_data['LandSlope'],\n",
    "\n",
    "\n",
    "'BldgType':test_raw_data['BldgType'],\n",
    "'HouseStyle':test_raw_data['HouseStyle'],\n",
    "'RoofStyle':test_raw_data['RoofStyle'],\n",
    "'RoofMatl':test_raw_data['RoofMatl'],\n",
    "'ExteriorComb':test_raw_data[\"ExteriorComb\"],  #exterior metal comb  \n",
    "'ExteriorCondComb':test_raw_data['ExteriorCondComb'], #exterior quality comb\n",
    "'MasVnrType':test_raw_data['MasVnrType'],\n",
    "'MasVnrArea':test_raw_data['MasVnrArea'],\n",
    "'Foundation':test_raw_data['Foundation'],\n",
    "'BsmtCondComb':test_raw_data['BsmtCondComb'],\n",
    "'TotalBsmtSF':test_raw_data['TotalBsmtSF'],\n",
    "\n",
    "\n",
    "'LowQualFinSF':test_raw_data['LowQualFinSF'],\n",
    "'GrLivArea':test_raw_data['GrLivArea'],\n",
    "\n",
    "'BedroomAbvGr':test_raw_data['BedroomAbvGr'],\n",
    "'TotRmsAbvGrd':test_raw_data['TotRmsAbvGrd'],\n",
    "\n",
    "'KitchenAbvGr':test_raw_data['KitchenAbvGr'],\n",
    "'KitchenQual':test_raw_data['KitchenQual'],\n",
    "\n",
    "#'FullBath':test_raw_data['FullBath']\n",
    "#'HalfBath':test_raw_data['HalfBath']\n",
    "'TotalBaths':test_raw_data['TotalBaths'],\n",
    "\n",
    "'1stFlrSF':test_raw_data['1stFlrSF'],\n",
    "'2ndFlrSF':test_raw_data['2ndFlrSF'],\n",
    "\n",
    "'FireplaceComb':test_raw_data['FireplaceComb'],\n",
    "'HeatingCOmb':test_raw_data['HeatingComb'],\n",
    "'CentralAir':test_raw_data['CentralAir'],\n",
    "\n",
    "'TotalPorchArea':test_raw_data['TotalPorchArea'],\n",
    "'WoodDeckSF':test_raw_data['WoodDeckSF'],\n",
    "'GarageArea':test_raw_data['GarageArea'],\n",
    "'PoolArea':test_raw_data['PoolArea'],\n",
    "\n",
    "'Utilities':test_raw_data['Utilities'],\n",
    "'Electrical':test_raw_data['Electrical'],\n",
    "'MiscVal':test_raw_data['MiscVal'],\n",
    "\n",
    "'SaleType':test_raw_data['SaleType'],\n",
    "'SaleCondition':test_raw_data['SaleCondition'],\n",
    "\n",
    "\n",
    "'OverallCondComb':test_raw_data['OverallCondComb']\n",
    "\n",
    "}\n"
   ]
  },
  {
   "cell_type": "code",
   "execution_count": 59,
   "metadata": {},
   "outputs": [],
   "source": [
    "##creating the data frame and save it\n",
    "New_test_data=pd.DataFrame(data=New_test_data_frame)\n",
    "\n",
    "New_test_data.to_csv('New_test_data_frame.csv')\n",
    "C2=New_test_data.isnull().sum()\n",
    "C2.to_csv('C2.csv',index=True)"
   ]
  },
  {
   "cell_type": "code",
   "execution_count": 60,
   "metadata": {},
   "outputs": [
    {
     "data": {
      "text/plain": [
       "np.int64(0)"
      ]
     },
     "execution_count": 60,
     "metadata": {},
     "output_type": "execute_result"
    }
   ],
   "source": [
    "test_raw_data['BedroomAbvGr']\n",
    "test_raw_data['BedroomAbvGr']\n",
    "test_raw_data['TotalBsmtSF'].isnull().sum()"
   ]
  },
  {
   "cell_type": "code",
   "execution_count": null,
   "metadata": {},
   "outputs": [],
   "source": []
  },
  {
   "cell_type": "code",
   "execution_count": null,
   "metadata": {},
   "outputs": [],
   "source": []
  }
 ],
 "metadata": {
  "kernelspec": {
   "display_name": "Python 3",
   "language": "python",
   "name": "python3"
  },
  "language_info": {
   "codemirror_mode": {
    "name": "ipython",
    "version": 3
   },
   "file_extension": ".py",
   "mimetype": "text/x-python",
   "name": "python",
   "nbconvert_exporter": "python",
   "pygments_lexer": "ipython3",
   "version": "3.10.12"
  },
  "orig_nbformat": 2
 },
 "nbformat": 4,
 "nbformat_minor": 2
}
