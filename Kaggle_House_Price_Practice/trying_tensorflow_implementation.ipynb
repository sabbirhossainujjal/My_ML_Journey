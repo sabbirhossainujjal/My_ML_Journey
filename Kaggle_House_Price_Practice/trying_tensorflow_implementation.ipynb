{
 "cells": [
  {
   "cell_type": "code",
   "execution_count": 80,
   "metadata": {},
   "outputs": [],
   "source": [
    "import numpy as np\n",
    "import pandas as pd\n",
    "import math \n",
    "import random\n",
    "import tensorflow as tf"
   ]
  },
  {
   "cell_type": "code",
   "execution_count": 81,
   "metadata": {
    "tags": []
   },
   "outputs": [],
   "source": [
    "##inputing the extracted data\n",
    "train_path='New_data_frame.csv'\n",
    "test_path='New_test_data_frame.csv'\n",
    "\n",
    "train_data=pd.read_csv(train_path)\n",
    "test_data=pd.read_csv(test_path)\n",
    "Y_labels=pd.read_csv('Y_labels.csv')\n",
    "\n",
    "ID=pd.read_csv('test.csv')\n",
    "Id=ID['Id']\n",
    "\n",
    "n_train=train_data.shape[1]\n",
    "n_test=test_data.shape[1]\n",
    "\n",
    "m_train=train_data.shape[0]\n",
    "m_test=test_data.shape[0]\n",
    "\n",
    "train_array=np.zeros((m_train,n_train),dtype=None)\n",
    "test_array=np.zeros((m_test,n_test),dtype=None)\n"
   ]
  },
  {
   "cell_type": "code",
   "execution_count": 82,
   "metadata": {
    "tags": []
   },
   "outputs": [
    {
     "name": "stdout",
     "output_type": "stream",
     "text": [
      "(1460, 39)\n",
      "(1459, 39)\n"
     ]
    }
   ],
   "source": [
    "print(train_array.shape)\n",
    "print(test_array.shape)"
   ]
  },
  {
   "cell_type": "code",
   "execution_count": 83,
   "metadata": {
    "tags": []
   },
   "outputs": [],
   "source": [
    "###Normalizing input and test data\n",
    "\n",
    "for col in train_data.columns:\n",
    "    #print(col)\n",
    "    #median1=train_data[col].median()\n",
    "    mean1=train_data[col].mean()\n",
    "    sig1=(train_data[col]-mean1)**2\n",
    "    sig=sig1.mean()+1e-11\n",
    "    train_data[col]=(train_data[col]-mean1)/sig\n",
    "\n",
    "\n",
    "for col1 in test_data.columns:\n",
    "    mean2=test_data[col1].mean()\n",
    "    sig2=(test_data[col1]-mean2)**2\n",
    "    sig=sig2.mean()+1e-11\n",
    "    test_data[col1]=(test_data[col1]-mean2)/sig\n"
   ]
  },
  {
   "cell_type": "code",
   "execution_count": 84,
   "metadata": {
    "tags": []
   },
   "outputs": [],
   "source": [
    "#print(train_data)\n",
    "#print(test_data)"
   ]
  },
  {
   "cell_type": "code",
   "execution_count": 85,
   "metadata": {
    "tags": []
   },
   "outputs": [
    {
     "name": "stdout",
     "output_type": "stream",
     "text": [
      "(1460, 1)\n"
     ]
    }
   ],
   "source": [
    "##Normalizing Y \n",
    "Y=np.zeros((m_train,1),dtype=None)\n",
    "print(Y.shape)\n",
    "k=0\n",
    "\n",
    "for col in Y_labels.columns:\n",
    "    if col=='SalePrice':\n",
    "        Y_median=Y_labels[col].median()\n",
    "        #print(Y_median)\n",
    "\n",
    "        Y[:,0]=Y_labels[col]/(Y_median+1e-11)\n",
    "    \n",
    "    k=k+1\n",
    "\n",
    "\n",
    "Y_median=Y_median"
   ]
  },
  {
   "cell_type": "code",
   "execution_count": 86,
   "metadata": {
    "tags": []
   },
   "outputs": [
    {
     "data": {
      "text/plain": [
       "(1460, 1)"
      ]
     },
     "execution_count": 86,
     "metadata": {},
     "output_type": "execute_result"
    }
   ],
   "source": [
    "##normalize Y_labels\n",
    "'''Y_median=Y_labels.median()\n",
    "Y_labels=Y_labels/Y_median'''\n",
    "Y_labels.shape\n",
    "#print(type(Y))"
   ]
  },
  {
   "cell_type": "code",
   "execution_count": 87,
   "metadata": {},
   "outputs": [],
   "source": [
    "### rearranging data\n",
    "i=0\n",
    "for col in train_data.columns:\n",
    "    train_array[:,i]=train_data[col]\n",
    "    i=i+1\n",
    "\n",
    "j=0\n",
    "for col in test_data.columns:\n",
    "    test_array[:,j]=test_data[col]\n",
    "    j=j+1"
   ]
  },
  {
   "cell_type": "code",
   "execution_count": 88,
   "metadata": {
    "tags": []
   },
   "outputs": [],
   "source": [
    "#print(test_array)\n",
    "#print(type(test_array[0,0]))"
   ]
  },
  {
   "cell_type": "code",
   "execution_count": 89,
   "metadata": {
    "tags": []
   },
   "outputs": [],
   "source": [
    "#print(train_data)"
   ]
  },
  {
   "cell_type": "code",
   "execution_count": 90,
   "metadata": {
    "tags": []
   },
   "outputs": [
    {
     "name": "stdout",
     "output_type": "stream",
     "text": [
      "(39, 1460)\n"
     ]
    }
   ],
   "source": [
    "## trying tensor flow\n",
    "#data augmentation for tensorflow\n",
    "\n",
    "X_test=test_array.T\n",
    "X_train=train_array.T\n",
    "Y_train=Y.T\n",
    "print(X_train.shape)"
   ]
  },
  {
   "cell_type": "code",
   "execution_count": 91,
   "metadata": {
    "tags": []
   },
   "outputs": [
    {
     "name": "stdout",
     "output_type": "stream",
     "text": [
      "Epoch 1/5\n",
      "46/46 [==============================] - 0s 2ms/step - loss: 0.3044 - accuracy: 0.0027\n",
      "Epoch 2/5\n",
      "46/46 [==============================] - 0s 2ms/step - loss: 0.2454 - accuracy: 0.0027\n",
      "Epoch 3/5\n",
      "46/46 [==============================] - 0s 2ms/step - loss: 0.2307 - accuracy: 0.0027\n",
      "Epoch 4/5\n",
      "46/46 [==============================] - 0s 2ms/step - loss: 0.2255 - accuracy: 0.0027\n",
      "Epoch 5/5\n",
      "46/46 [==============================] - 0s 3ms/step - loss: 0.2235 - accuracy: 0.0027\n"
     ]
    },
    {
     "data": {
      "text/plain": [
       "<tensorflow.python.keras.callbacks.History at 0x20caa4f2f70>"
      ]
     },
     "execution_count": 91,
     "metadata": {},
     "output_type": "execute_result"
    }
   ],
   "source": [
    "##defining model\n",
    "\n",
    "model1=tf.keras.models.Sequential([\n",
    "tf.keras.layers.Dense(units=100,activation=tf.nn.relu),\n",
    "tf.keras.layers.Dense(units=100, activation=tf.nn.relu),\n",
    "tf.keras.layers.Dense(units=100,activation=tf.nn.relu),\n",
    "tf.keras.layers.Dense(units=50, activation=tf.nn.relu),\n",
    "tf.keras.layers.Dense(units=50, activation=tf.nn.relu),\n",
    "tf.keras.layers.Dense(units=1,activation=tf.nn.sigmoid)\n",
    "])\n",
    "\n",
    "\n",
    "model1.compile(optimizer=tf.optimizers.Adam(),loss='mean_squared_error',metrics=['accuracy'])\n",
    "model1.fit(X_train.T,Y_train.T,epochs=5)"
   ]
  },
  {
   "cell_type": "code",
   "execution_count": 92,
   "metadata": {},
   "outputs": [],
   "source": [
    "Y_new1=model1.predict(X_test.T)"
   ]
  },
  {
   "cell_type": "code",
   "execution_count": 93,
   "metadata": {
    "tags": []
   },
   "outputs": [
    {
     "name": "stdout",
     "output_type": "stream",
     "text": [
      "[104043.336 162191.    162799.36  ... 143148.83  132525.23  162999.52 ]\n"
     ]
    }
   ],
   "source": [
    "salePrice1=Y_new1.T*Y_median\n",
    "print(salePrice1[0])"
   ]
  },
  {
   "cell_type": "code",
   "execution_count": 94,
   "metadata": {
    "tags": []
   },
   "outputs": [
    {
     "name": "stdout",
     "output_type": "stream",
     "text": [
      "Epoch 1/5\n",
      "46/46 [==============================] - 0s 2ms/step - loss: 0.0433 - accuracy: 0.0027\n",
      "Epoch 2/5\n",
      "46/46 [==============================] - 0s 2ms/step - loss: 0.0358 - accuracy: 0.0027\n",
      "Epoch 3/5\n",
      "46/46 [==============================] - 0s 2ms/step - loss: 0.0351 - accuracy: 0.0027\n",
      "Epoch 4/5\n",
      "46/46 [==============================] - 0s 2ms/step - loss: 0.0351 - accuracy: 0.0027\n",
      "Epoch 5/5\n",
      "46/46 [==============================] - 0s 2ms/step - loss: 0.0345 - accuracy: 0.0027\n",
      "[[101512.914 161586.5   162906.83  ... 122940.414 119754.79  162994.48 ]]\n"
     ]
    }
   ],
   "source": [
    "#traing with different optimizers\n",
    "\n",
    "model2=tf.keras.models.Sequential([\n",
    "tf.keras.layers.Dense(units=100,activation=tf.nn.relu),\n",
    "tf.keras.layers.Dense(units=100, activation=tf.nn.relu),\n",
    "tf.keras.layers.Dense(units=100,activation=tf.nn.relu),\n",
    "tf.keras.layers.Dense(units=50, activation=tf.nn.relu),\n",
    "tf.keras.layers.Dense(units=50, activation=tf.nn.relu),\n",
    "tf.keras.layers.Dense(units=1,activation=tf.nn.sigmoid)\n",
    "])\n",
    "\n",
    "\n",
    "model2.compile(optimizer=tf.optimizers.RMSprop(),loss='mean_squared_logarithmic_error',metrics=['accuracy'])\n",
    "model2.fit(X_train.T,Y_train.T,epochs=5)\n",
    "\n",
    "Y_new2=model2.predict(X_test.T)\n",
    "salePrice2=Y_new2.T*Y_median\n",
    "\n",
    "print(salePrice2)"
   ]
  },
  {
   "cell_type": "code",
   "execution_count": null,
   "metadata": {},
   "outputs": [],
   "source": []
  }
 ],
 "metadata": {
  "kernelspec": {
   "display_name": "Python 3.8.3 64-bit",
   "name": "python38364bitcc0d41f40e174e64af276bd934e9c702"
  },
  "language_info": {
   "codemirror_mode": {
    "name": "ipython",
    "version": 3
   },
   "file_extension": ".py",
   "mimetype": "text/x-python",
   "name": "python",
   "nbconvert_exporter": "python",
   "pygments_lexer": "ipython3",
   "version": "3.8.3-final"
  },
  "orig_nbformat": 2
 },
 "nbformat": 4,
 "nbformat_minor": 2
}
