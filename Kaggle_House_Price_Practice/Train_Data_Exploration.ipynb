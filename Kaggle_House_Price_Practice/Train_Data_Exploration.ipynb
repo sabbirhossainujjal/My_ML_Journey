{
 "cells": [
  {
   "cell_type": "code",
   "execution_count": 60,
   "metadata": {},
   "outputs": [],
   "source": [
    "from IPython.core.interactiveshell import InteractiveShell\n",
    "InteractiveShell.ast_node_interactivity = \"all\""
   ]
  },
  {
   "cell_type": "code",
   "execution_count": 61,
   "metadata": {},
   "outputs": [],
   "source": [
    "import numpy as np\n",
    "import pandas as pd\n",
    "import math \n",
    "import random\n"
   ]
  },
  {
   "cell_type": "code",
   "execution_count": 62,
   "metadata": {
    "tags": []
   },
   "outputs": [],
   "source": [
    "#reading data form csv\n",
    "\n",
    "train_path='train.csv'\n",
    "test_path='test.csv'\n",
    "train_raw_data=pd.read_csv(train_path)\n",
    "test_raw_data=pd.read_csv(test_path)\n",
    "#print(train_raw_data)\n",
    "\n"
   ]
  },
  {
   "cell_type": "code",
   "execution_count": 63,
   "metadata": {},
   "outputs": [],
   "source": [
    "# extracting traing labels and train data witout labels\n",
    "\n",
    "Y_labels=train_raw_data['SalePrice'].copy()\n",
    "train_raw_data=train_raw_data.drop(['SalePrice'],axis=1) # axis=1 for vertically axis=0 for horizontally\n",
    "\n"
   ]
  },
  {
   "cell_type": "code",
   "execution_count": 64,
   "metadata": {
    "tags": []
   },
   "outputs": [],
   "source": [
    "# finding the null containing cell\n",
    "\n",
    "V=train_raw_data.isnull().sum()\n",
    "#V.to_csv('V.csv',index=True)\n"
   ]
  },
  {
   "cell_type": "code",
   "execution_count": 65,
   "metadata": {},
   "outputs": [
    {
     "output_type": "execute_result",
     "data": {
      "text/plain": "array([ 60,  20,  70,  50, 190,  45,  90, 120,  30,  85,  80, 160,  75,\n       180,  40], dtype=int64)"
     },
     "metadata": {},
     "execution_count": 65
    },
    {
     "output_type": "execute_result",
     "data": {
      "text/plain": "array([ 20,  60, 120, 160,  80,  30,  50,  90,  85, 190,  45,  70,  75,\n       180,  40, 150], dtype=int64)"
     },
     "metadata": {},
     "execution_count": 65
    },
    {
     "output_type": "execute_result",
     "data": {
      "text/plain": "0"
     },
     "metadata": {},
     "execution_count": 65
    }
   ],
   "source": [
    "#visualing data\n",
    "train_raw_data.MSSubClass.unique()\n",
    "test_raw_data.MSSubClass.unique()\n",
    "train_raw_data.SaleType.isnull().sum()\n"
   ]
  },
  {
   "cell_type": "code",
   "execution_count": 66,
   "metadata": {
    "tags": []
   },
   "outputs": [
    {
     "output_type": "execute_result",
     "data": {
      "text/plain": "0"
     },
     "metadata": {},
     "execution_count": 66
    },
    {
     "output_type": "execute_result",
     "data": {
      "text/plain": "array(['WD', 'New', 'COD', 'ConLD', 'ConLI', 'CWD', 'ConLw', 'Con', 'Oth'],\n      dtype=object)"
     },
     "metadata": {},
     "execution_count": 66
    }
   ],
   "source": [
    "# maping data to numerical value \n",
    " ###SaleType\n",
    "train_raw_data.SaleType.isnull().sum()\n",
    "train_raw_data.SaleType.unique()\n",
    "train_raw_data['SaleType']=train_raw_data['SaleType'].map({ 'WD':10, 'CWD':9, 'VWD':8,'New':7, 'COD':6, 'Con':5, 'ConLw':4,'ConLI':3, 'ConLD':2, 'Oth':1})\n",
    "#print(train_raw_data['SaleType'])"
   ]
  },
  {
   "cell_type": "code",
   "execution_count": 67,
   "metadata": {
    "tags": []
   },
   "outputs": [
    {
     "output_type": "execute_result",
     "data": {
      "text/plain": "0"
     },
     "metadata": {},
     "execution_count": 67
    },
    {
     "output_type": "execute_result",
     "data": {
      "text/plain": "array(['Normal', 'Abnorml', 'Partial', 'AdjLand', 'Alloca', 'Family'],\n      dtype=object)"
     },
     "metadata": {},
     "execution_count": 67
    }
   ],
   "source": [
    "###SaleCondition\n",
    "train_raw_data.SaleCondition.isnull().sum()\n",
    "train_raw_data.SaleCondition.unique()\n",
    "train_raw_data['SaleCondition']=train_raw_data.SaleCondition.map({ 'Normal': 6, 'Abnorml':1, 'AdjLand':5 ,'Alloca':3, 'Family':4, 'Partial':2})\n",
    "\n",
    "#print(train_raw_data['SaleCondition'])"
   ]
  },
  {
   "cell_type": "code",
   "execution_count": 68,
   "metadata": {
    "tags": []
   },
   "outputs": [
    {
     "output_type": "execute_result",
     "data": {
      "text/plain": "0"
     },
     "metadata": {},
     "execution_count": 68
    }
   ],
   "source": [
    "###MSSubClass (Buliding type  (Identifies the type of dwelling involved in the sale))\n",
    "train_raw_data.MSSubClass.isnull().sum()   #Already in neumerical \n"
   ]
  },
  {
   "cell_type": "code",
   "execution_count": 69,
   "metadata": {},
   "outputs": [
    {
     "output_type": "execute_result",
     "data": {
      "text/plain": "0"
     },
     "metadata": {},
     "execution_count": 69
    }
   ],
   "source": [
    "###LotConfig\n",
    "train_raw_data.LotConfig.isnull().sum()\n",
    "train_raw_data['LotConfig']=train_raw_data.LotConfig.map({'Inside':2,'Corner':1,'CulDSac':6,'FR2':5,'FR3':4})"
   ]
  },
  {
   "cell_type": "code",
   "execution_count": 70,
   "metadata": {},
   "outputs": [
    {
     "output_type": "execute_result",
     "data": {
      "text/plain": "0"
     },
     "metadata": {},
     "execution_count": 70
    },
    {
     "output_type": "execute_result",
     "data": {
      "text/plain": "array(['1Fam', '2fmCon', 'Duplex', 'TwnhsE', 'Twnhs'], dtype=object)"
     },
     "metadata": {},
     "execution_count": 70
    },
    {
     "output_type": "execute_result",
     "data": {
      "text/plain": "0"
     },
     "metadata": {},
     "execution_count": 70
    }
   ],
   "source": [
    "###BldgType (type of dwelling)(quite similar to buliding type)\n",
    "train_raw_data.BldgType.isnull().sum()\n",
    "train_raw_data.BldgType.unique()\n",
    "train_raw_data[\"BldgType\"]=train_raw_data.BldgType.map({\"1Fam\":65,\"2fmCon\":70,\"Duplex\":75,'TwnhsE':85,'Twnhs':80})\n",
    "train_raw_data['BldgType'].isnull().sum()"
   ]
  },
  {
   "cell_type": "code",
   "execution_count": 71,
   "metadata": {},
   "outputs": [
    {
     "output_type": "execute_result",
     "data": {
      "text/plain": "0"
     },
     "metadata": {},
     "execution_count": 71
    },
    {
     "output_type": "execute_result",
     "data": {
      "text/plain": "array(['2Story', '1Story', '1.5Fin', '1.5Unf', 'SFoyer', 'SLvl', '2.5Unf',\n       '2.5Fin'], dtype=object)"
     },
     "metadata": {},
     "execution_count": 71
    }
   ],
   "source": [
    "###HouseStyle  (style of dwelling (room architecture))\n",
    "train_raw_data.HouseStyle.isnull().sum()\n",
    "train_raw_data.HouseStyle.unique()\n",
    "train_raw_data['HouseStyle']=train_raw_data.HouseStyle.map({\"1Story\":50,\"1.5Fin\":75, \"2Story\":80,\"2.5Fin\":100,\"2.5Unf\":90,\"1.5Unf\":70,\"SFoyer\":65,'SLvl':55})"
   ]
  },
  {
   "cell_type": "code",
   "execution_count": 72,
   "metadata": {},
   "outputs": [
    {
     "output_type": "execute_result",
     "data": {
      "text/plain": "0"
     },
     "metadata": {},
     "execution_count": 72
    },
    {
     "output_type": "execute_result",
     "data": {
      "text/plain": "0"
     },
     "metadata": {},
     "execution_count": 72
    },
    {
     "output_type": "execute_result",
     "data": {
      "text/plain": "0"
     },
     "metadata": {},
     "execution_count": 72
    },
    {
     "output_type": "execute_result",
     "data": {
      "text/plain": "0"
     },
     "metadata": {},
     "execution_count": 72
    },
    {
     "output_type": "execute_result",
     "data": {
      "text/plain": "array(['Gd', 'TA', 'Ex', 'Fa'], dtype=object)"
     },
     "metadata": {},
     "execution_count": 72
    },
    {
     "output_type": "execute_result",
     "data": {
      "text/plain": "0"
     },
     "metadata": {},
     "execution_count": 72
    },
    {
     "output_type": "execute_result",
     "data": {
      "text/plain": "0"
     },
     "metadata": {},
     "execution_count": 72
    },
    {
     "output_type": "execute_result",
     "data": {
      "text/plain": "0"
     },
     "metadata": {},
     "execution_count": 72
    },
    {
     "output_type": "execute_result",
     "data": {
      "text/plain": "0"
     },
     "metadata": {},
     "execution_count": 72
    }
   ],
   "source": [
    "### Room information\n",
    "#BedroomAbvGr (Bedrooms number)\n",
    "train_raw_data['BedroomAbvGr'].isnull().sum()  #already in number\n",
    "train_raw_data['TotRmsAbvGrd'].isnull().sum()  #already in number\n",
    "#Kitchen\n",
    "train_raw_data['KitchenAbvGr'].isnull().sum()  #already in number\n",
    "train_raw_data['KitchenQual'].isnull().sum()\n",
    "train_raw_data['KitchenQual'].unique()\n",
    "\n",
    "train_raw_data['KitchenQual']=train_raw_data['KitchenQual'].map({\"Ex\":5,\"Gd\":4,\"TA\":3,\"Fa\":2,\"Po\":1})\n",
    "train_raw_data['KitchenQual'].isnull().sum()\n",
    "\n",
    "###Baths\n",
    "train_raw_data['FullBath'].isnull().sum()\n",
    "train_raw_data['HalfBath'].isnull().sum()\n",
    "\n",
    "##marging Baths\n",
    "train_raw_data['TotalBaths']=train_raw_data['FullBath']+0.5*train_raw_data['HalfBath']\n",
    "train_raw_data=train_raw_data.drop(['FullBath','HalfBath'],axis=1)\n",
    "\n",
    "train_raw_data['TotalBaths'].isnull().sum()"
   ]
  },
  {
   "cell_type": "code",
   "execution_count": 73,
   "metadata": {},
   "outputs": [
    {
     "output_type": "execute_result",
     "data": {
      "text/plain": "0"
     },
     "metadata": {},
     "execution_count": 73
    },
    {
     "output_type": "execute_result",
     "data": {
      "text/plain": "array(['Gable', 'Hip', 'Gambrel', 'Mansard', 'Flat', 'Shed'], dtype=object)"
     },
     "metadata": {},
     "execution_count": 73
    }
   ],
   "source": [
    "### RoofStyle (type of roof)\n",
    "train_raw_data.RoofStyle.isnull().sum()\n",
    "train_raw_data.RoofStyle.unique()\n",
    "train_raw_data['RoofStyle']=train_raw_data.RoofStyle.map({'Flat':4,'Gable':3,'Gambrel':2,'Hip':5,'Mansard':6,'Shed':1})"
   ]
  },
  {
   "cell_type": "code",
   "execution_count": 74,
   "metadata": {},
   "outputs": [
    {
     "output_type": "execute_result",
     "data": {
      "text/plain": "0"
     },
     "metadata": {},
     "execution_count": 74
    },
    {
     "output_type": "execute_result",
     "data": {
      "text/plain": "array(['CompShg', 'WdShngl', 'Metal', 'WdShake', 'Membran', 'Tar&Grv',\n       'Roll', 'ClyTile'], dtype=object)"
     },
     "metadata": {},
     "execution_count": 74
    }
   ],
   "source": [
    "### RoofMatl  (roof material)\n",
    "train_raw_data.RoofMatl.isnull().sum()\n",
    "train_raw_data.RoofMatl.unique()\n",
    "train_raw_data['RoofMatl']=train_raw_data.RoofMatl.map({'ClyTile':60,'CompShg':80,'Membran':40,'Metal':70,'Roll':65,'Tar&Grv':55,'WdShake':50,'WdShngl':45})"
   ]
  },
  {
   "cell_type": "code",
   "execution_count": 75,
   "metadata": {},
   "outputs": [
    {
     "output_type": "execute_result",
     "data": {
      "text/plain": "0"
     },
     "metadata": {},
     "execution_count": 75
    },
    {
     "output_type": "execute_result",
     "data": {
      "text/plain": "array(['PConc', 'CBlock', 'BrkTil', 'Wood', 'Slab', 'Stone'], dtype=object)"
     },
     "metadata": {},
     "execution_count": 75
    },
    {
     "output_type": "execute_result",
     "data": {
      "text/plain": "0"
     },
     "metadata": {},
     "execution_count": 75
    }
   ],
   "source": [
    "###Foundation (type of foundation)\n",
    "train_raw_data.Foundation.isnull().sum()\n",
    "train_raw_data.Foundation.unique()\n",
    "train_raw_data['Foundation']=train_raw_data.Foundation.map({'BrkTil':2,'CBlock':3,'PConc':4,'Slab':5,'Stone':6,'Wood':1})\n",
    "train_raw_data.Foundation.isnull().sum()"
   ]
  },
  {
   "cell_type": "code",
   "execution_count": 76,
   "metadata": {},
   "outputs": [
    {
     "output_type": "execute_result",
     "data": {
      "text/plain": "37"
     },
     "metadata": {},
     "execution_count": 76
    },
    {
     "output_type": "execute_result",
     "data": {
      "text/plain": "array(['Gd', 'TA', 'Ex', nan, 'Fa'], dtype=object)"
     },
     "metadata": {},
     "execution_count": 76
    },
    {
     "output_type": "execute_result",
     "data": {
      "text/plain": "array(['Gd', 'TA', 'Ex', 'Fa'], dtype=object)"
     },
     "metadata": {},
     "execution_count": 76
    }
   ],
   "source": [
    "###BsmtQual (Height of the basement)\n",
    "train_raw_data.BsmtQual.isnull().sum()\n",
    "train_raw_data.BsmtQual.unique()\n",
    "#imputing missing values with most frequent values\n",
    "train_raw_data['BsmtQual']=train_raw_data['BsmtQual'].fillna(train_raw_data['BsmtQual'].value_counts().index[0])\n",
    "train_raw_data.BsmtQual.unique()\n",
    "\n",
    "train_raw_data['BsmtQual']=train_raw_data.BsmtQual.map({'Ex':5,'Gd':4,'TA':3,'Fa':2, 'Po':1,'NA':0})\n"
   ]
  },
  {
   "cell_type": "code",
   "execution_count": 77,
   "metadata": {},
   "outputs": [
    {
     "output_type": "execute_result",
     "data": {
      "text/plain": "37"
     },
     "metadata": {},
     "execution_count": 77
    },
    {
     "output_type": "execute_result",
     "data": {
      "text/plain": "array(['TA', 'Gd', 'Fa', 'Po'], dtype=object)"
     },
     "metadata": {},
     "execution_count": 77
    }
   ],
   "source": [
    "###BsmtCond  (general condition of the basement)\n",
    "train_raw_data.BsmtCond.isnull().sum()\n",
    "train_raw_data['BsmtCond']=train_raw_data['BsmtCond'].fillna(train_raw_data['BsmtCond'].value_counts().index[0])\n",
    "train_raw_data.BsmtCond.unique()\n",
    "\n",
    "train_raw_data['BsmtCond']=train_raw_data.BsmtCond.map({'Ex':5,'Gd':4,'TA':3,'Fa':2, 'Po':1,'NA':0})"
   ]
  },
  {
   "cell_type": "code",
   "execution_count": null,
   "metadata": {},
   "outputs": [],
   "source": []
  },
  {
   "cell_type": "code",
   "execution_count": 78,
   "metadata": {},
   "outputs": [],
   "source": [
    "### combining the basemet condition\n",
    "train_raw_data['BsmtCondComb']=train_raw_data['BsmtQual']*train_raw_data['BsmtCond']\n",
    "train_raw_data=train_raw_data.drop(['BsmtCond','BsmtQual'],axis=1)"
   ]
  },
  {
   "cell_type": "code",
   "execution_count": 79,
   "metadata": {},
   "outputs": [
    {
     "output_type": "execute_result",
     "data": {
      "text/plain": "0"
     },
     "metadata": {},
     "execution_count": 79
    }
   ],
   "source": [
    "###Heating\n",
    "train_raw_data.Heating.isnull().sum()\n",
    "train_raw_data['Heating']=train_raw_data.Heating.map({'Floor':6,'GasA':3,'GasW':2,'Grav':5,'OthW':1,'Wall':4})\n",
    "\n"
   ]
  },
  {
   "cell_type": "code",
   "execution_count": 80,
   "metadata": {},
   "outputs": [
    {
     "output_type": "execute_result",
     "data": {
      "text/plain": "0"
     },
     "metadata": {},
     "execution_count": 80
    }
   ],
   "source": [
    "#HeatingQC\n",
    "train_raw_data.HeatingQC.isnull().sum()\n",
    "train_raw_data['HeatingQC']=train_raw_data['HeatingQC'].map({'Ex':5,'Gd':4,'TA':3,'Fa':2,'Po':1})"
   ]
  },
  {
   "cell_type": "code",
   "execution_count": 81,
   "metadata": {},
   "outputs": [],
   "source": [
    "###marging Heating and HeatinQc\n",
    "train_raw_data['HeatingComb']=train_raw_data['Heating']*train_raw_data['HeatingQC']\n",
    "train_raw_data=train_raw_data.drop(['Heating','HeatingQC'],axis=1)"
   ]
  },
  {
   "cell_type": "code",
   "execution_count": 82,
   "metadata": {},
   "outputs": [
    {
     "output_type": "execute_result",
     "data": {
      "text/plain": "0"
     },
     "metadata": {},
     "execution_count": 82
    }
   ],
   "source": [
    "###centralAir\n",
    "train_raw_data.CentralAir.isnull().sum()\n",
    "train_raw_data['CentralAir']=train_raw_data.CentralAir.map({'Y':1,'N':0})\n"
   ]
  },
  {
   "cell_type": "code",
   "execution_count": 83,
   "metadata": {},
   "outputs": [
    {
     "output_type": "execute_result",
     "data": {
      "text/plain": "0"
     },
     "metadata": {},
     "execution_count": 83
    }
   ],
   "source": [
    "###Fireplaces(number of fire places)\n",
    "train_raw_data.Fireplaces.isnull().sum()\n",
    "#already in numerical value"
   ]
  },
  {
   "cell_type": "code",
   "execution_count": 84,
   "metadata": {},
   "outputs": [
    {
     "output_type": "execute_result",
     "data": {
      "text/plain": "690"
     },
     "metadata": {},
     "execution_count": 84
    },
    {
     "output_type": "execute_result",
     "data": {
      "text/plain": "0"
     },
     "metadata": {},
     "execution_count": 84
    },
    {
     "output_type": "execute_result",
     "data": {
      "text/plain": "array(['Gd', 'TA', 'Fa', 'Ex', 'Po'], dtype=object)"
     },
     "metadata": {},
     "execution_count": 84
    },
    {
     "output_type": "execute_result",
     "data": {
      "text/plain": "0"
     },
     "metadata": {},
     "execution_count": 84
    }
   ],
   "source": [
    "### FireplaceQu \n",
    "train_raw_data.FireplaceQu.isnull().sum()\n",
    "train_raw_data['FireplaceQu']=train_raw_data['FireplaceQu'].fillna(train_raw_data['FireplaceQu'].value_counts().index[0])\n",
    "\n",
    "train_raw_data.FireplaceQu.isnull().sum()\n",
    "train_raw_data.FireplaceQu.unique()\n",
    "train_raw_data['FireplaceQu']=train_raw_data.FireplaceQu.map({'Ex':5,'Gd':4,'TA':3,'Fa':2,'Po':1,'NA':0})\n",
    "\n",
    "train_raw_data.FireplaceQu.isnull().sum()"
   ]
  },
  {
   "cell_type": "code",
   "execution_count": 85,
   "metadata": {},
   "outputs": [],
   "source": [
    "###marging  Fireplace info\n",
    "train_raw_data['FireplaceComb']=train_raw_data['Fireplaces']*train_raw_data['FireplaceQu']\n",
    "train_raw_data=train_raw_data.drop(['Fireplaces','FireplaceQu'],axis=1)"
   ]
  },
  {
   "cell_type": "code",
   "execution_count": null,
   "metadata": {},
   "outputs": [],
   "source": []
  },
  {
   "cell_type": "code",
   "execution_count": 2191,
   "metadata": {},
   "outputs": [
    {
     "output_type": "execute_result",
     "data": {
      "text/plain": "1"
     },
     "metadata": {},
     "execution_count": 2191
    },
    {
     "output_type": "execute_result",
     "data": {
      "text/plain": "array(['SBrkr', 'FuseF', 'FuseA', 'FuseP', 'Mix'], dtype=object)"
     },
     "metadata": {},
     "execution_count": 2191
    },
    {
     "output_type": "execute_result",
     "data": {
      "text/plain": "0"
     },
     "metadata": {},
     "execution_count": 2191
    }
   ],
   "source": []
  },
  {
   "cell_type": "code",
   "execution_count": null,
   "metadata": {},
   "outputs": [],
   "source": []
  },
  {
   "cell_type": "code",
   "execution_count": 86,
   "metadata": {},
   "outputs": [
    {
     "output_type": "execute_result",
     "data": {
      "text/plain": "\"data=train_raw_data['Exterior2nd']\\nE2=pd.DataFrame(data=data)\\nE2.to_csv('E2.csv',index=True)\""
     },
     "metadata": {},
     "execution_count": 86
    }
   ],
   "source": [
    "'''data=train_raw_data['Exterior2nd']\n",
    "E2=pd.DataFrame(data=data)\n",
    "E2.to_csv('E2.csv',index=True)'''"
   ]
  },
  {
   "cell_type": "code",
   "execution_count": null,
   "metadata": {},
   "outputs": [],
   "source": []
  },
  {
   "cell_type": "code",
   "execution_count": 87,
   "metadata": {},
   "outputs": [
    {
     "output_type": "execute_result",
     "data": {
      "text/plain": "0"
     },
     "metadata": {},
     "execution_count": 87
    },
    {
     "output_type": "execute_result",
     "data": {
      "text/plain": "0"
     },
     "metadata": {},
     "execution_count": 87
    },
    {
     "output_type": "execute_result",
     "data": {
      "text/plain": "array(['VinylSd', 'MetalSd', 'Wd Sdng', 'HdBoard', 'BrkFace', 'WdShing',\n       'CemntBd', 'Plywood', 'AsbShng', 'Stucco', 'BrkComm', 'AsphShn',\n       'Stone', 'ImStucc', 'CBlock'], dtype=object)"
     },
     "metadata": {},
     "execution_count": 87
    },
    {
     "output_type": "execute_result",
     "data": {
      "text/plain": "array(['VinylSd', 'MetalSd', 'Wd Shng', 'HdBoard', 'Plywood', 'Wd Sdng',\n       'CmentBd', 'BrkFace', 'Stucco', 'AsbShng', 'Brk Cmn', 'ImStucc',\n       'AsphShn', 'Stone', 'Other', 'CBlock'], dtype=object)"
     },
     "metadata": {},
     "execution_count": 87
    },
    {
     "output_type": "execute_result",
     "data": {
      "text/plain": "0"
     },
     "metadata": {},
     "execution_count": 87
    },
    {
     "output_type": "execute_result",
     "data": {
      "text/plain": "0"
     },
     "metadata": {},
     "execution_count": 87
    },
    {
     "output_type": "execute_result",
     "data": {
      "text/plain": "0"
     },
     "metadata": {},
     "execution_count": 87
    },
    {
     "output_type": "execute_result",
     "data": {
      "text/plain": "'V1=Y_labels,train_raw_data[\\'Exterior1st\\']\\nV1={\\n\"Y_label\":Y_labels,\\n\\'tr\\':train_raw_data[\\'Exterior1st\\']\\n}\\nv1=pd.DataFrame(data=V1)\\nv1.to_csv(\\'V1.csv\\')'"
     },
     "metadata": {},
     "execution_count": 87
    }
   ],
   "source": [
    "###Exterior1st & Exterior2nd\n",
    "train_raw_data.Exterior1st.isnull().sum()\n",
    "train_raw_data.Exterior2nd.isnull().sum()\n",
    "train_raw_data.Exterior1st.unique()\n",
    "train_raw_data.Exterior2nd.unique()\n",
    "\n",
    "\n",
    "train_raw_data['Exterior1st']=train_raw_data.Exterior1st.map({'AsbShng':3,'AsphShn':12, 'BrkComm':7,'BrkFace':8,'CBlock':9,'CemntBd':10,'HdBoard':6,'ImStucc':16,'MetalSd':2,'Other':1,'Plywood':11,'PreCast':15,'Stone':13,'Stucco':17,'VinylSd':18,\"Wd Sdng\":4,'WdShing':5})\n",
    "train_raw_data.Exterior1st.isnull().sum()\n",
    "\n",
    "train_raw_data['Exterior2nd']=train_raw_data.Exterior2nd.map({'AsbShng':3,'AsphShn':12, \"Brk Cmn\":7,'BrkFace':8,'CBlock':9,\"CmentBd\":10,'HdBoard':6,'ImStucc':16,'MetalSd':2,'Other':1,'Plywood':11,'PreCast':15,'Stone':13,'Stucco':17,'VinylSd':18,'Wd Sdng':4,'Wd Shng':5})\n",
    "\n",
    "\n",
    "#train_raw_data.Exterior2nd.unique()\n",
    "train_raw_data.Exterior2nd.isnull().sum()\n",
    "\n",
    "### Adding up 2 exterior and droping the second\n",
    "train_raw_data[\"ExteriorComb\"]=train_raw_data['Exterior1st']+train_raw_data['Exterior2nd']\n",
    "\n",
    "#train_raw_data=train_raw_data.drop(['Exterior1st','Exterior2nd'],axis=1)\n",
    "\n",
    "train_raw_data['ExteriorComb'].isnull().sum()\n",
    "\n",
    "\n",
    "'''V1=Y_labels,train_raw_data['Exterior1st']\n",
    "V1={\n",
    "\"Y_label\":Y_labels,\n",
    "'tr':train_raw_data['Exterior1st']\n",
    "}\n",
    "v1=pd.DataFrame(data=V1)\n",
    "v1.to_csv('V1.csv')'''\n"
   ]
  },
  {
   "cell_type": "code",
   "execution_count": 88,
   "metadata": {},
   "outputs": [
    {
     "output_type": "execute_result",
     "data": {
      "text/plain": "0"
     },
     "metadata": {},
     "execution_count": 88
    },
    {
     "output_type": "execute_result",
     "data": {
      "text/plain": "array(['Gd', 'TA', 'Ex', 'Fa'], dtype=object)"
     },
     "metadata": {},
     "execution_count": 88
    }
   ],
   "source": [
    "###ExterQual (Exterior material quality)\n",
    "train_raw_data.ExterQual.isnull().sum()\n",
    "train_raw_data.ExterQual.unique()\n",
    "train_raw_data['ExterQual']=train_raw_data.ExterQual.map({'Ex':5,'Gd':4,'TA':3,'Fa':2,'Po':1})\n"
   ]
  },
  {
   "cell_type": "code",
   "execution_count": 89,
   "metadata": {},
   "outputs": [
    {
     "output_type": "execute_result",
     "data": {
      "text/plain": "0"
     },
     "metadata": {},
     "execution_count": 89
    },
    {
     "output_type": "execute_result",
     "data": {
      "text/plain": "array(['TA', 'Gd', 'Fa', 'Po', 'Ex'], dtype=object)"
     },
     "metadata": {},
     "execution_count": 89
    }
   ],
   "source": [
    "#ExterCond (present condition of the exterior material)\n",
    "train_raw_data.ExterCond.isnull().sum()\n",
    "train_raw_data.ExterCond.unique()\n",
    "train_raw_data['ExterCond']=train_raw_data.ExterCond.map({'Ex':5,'Gd':4,'TA':3,'Fa':2,'Po':1})\n"
   ]
  },
  {
   "cell_type": "code",
   "execution_count": 90,
   "metadata": {},
   "outputs": [],
   "source": [
    "###ExterCondComb(ExteriorQual*ExteriorCond)\n",
    "\n",
    "train_raw_data['ExteriorCondComb']=train_raw_data['ExterCond']*train_raw_data['ExterQual']\n",
    "\n",
    "train_raw_data=train_raw_data.drop(['ExterQual','ExterCond'],axis=1)\n"
   ]
  },
  {
   "cell_type": "code",
   "execution_count": 91,
   "metadata": {},
   "outputs": [
    {
     "output_type": "execute_result",
     "data": {
      "text/plain": "8"
     },
     "metadata": {},
     "execution_count": 91
    },
    {
     "output_type": "execute_result",
     "data": {
      "text/plain": "array(['BrkFace', 'None', 'Stone', 'BrkCmn', nan], dtype=object)"
     },
     "metadata": {},
     "execution_count": 91
    }
   ],
   "source": [
    "### MasVnrType (masonary veneer type)\n",
    "train_raw_data.MasVnrType.isnull().sum()\n",
    "train_raw_data.MasVnrType.unique()\n",
    "train_raw_data['MasVnrType']=train_raw_data['MasVnrType'].fillna(train_raw_data['MasVnrType'].value_counts().index[0])\n",
    "\n",
    "#train_raw_data.MasVnrType.unique()\n",
    "train_raw_data['MasVnrType']=train_raw_data.MasVnrType.map({ 'BrkCmn':4,'BrkFace':3,'CBlock':2,'None':0,'Stone':5})\n"
   ]
  },
  {
   "cell_type": "code",
   "execution_count": 92,
   "metadata": {
    "tags": []
   },
   "outputs": [
    {
     "output_type": "execute_result",
     "data": {
      "text/plain": "8"
     },
     "metadata": {},
     "execution_count": 92
    },
    {
     "output_type": "execute_result",
     "data": {
      "text/plain": "0"
     },
     "metadata": {},
     "execution_count": 92
    }
   ],
   "source": [
    "### MasVnrArea   \n",
    "train_raw_data.MasVnrArea.isnull().sum()  #need to find the missing value\n",
    "\n",
    "train_raw_data['MasVnrArea']=train_raw_data['MasVnrArea'].fillna(train_raw_data['MasVnrArea'].median())  \n",
    "\n",
    "#missing data is filled with median data\n",
    "#train_raw_data.MasVnrArea.unique()\n",
    "train_raw_data.MasVnrArea.isnull().sum() "
   ]
  },
  {
   "cell_type": "code",
   "execution_count": 93,
   "metadata": {},
   "outputs": [
    {
     "output_type": "execute_result",
     "data": {
      "text/plain": "\"### Overall External condition (ExterQual*ExterCond)\\ntrain_raw_data['OverallExterCond']=train_raw_data['ExterQual']*train_raw_data['ExterCond']\""
     },
     "metadata": {},
     "execution_count": 93
    }
   ],
   "source": [
    "'''### Overall External condition (ExterQual*ExterCond)\n",
    "train_raw_data['OverallExterCond']=train_raw_data['ExterQual']*train_raw_data['ExterCond']'''\n",
    "\n"
   ]
  },
  {
   "cell_type": "code",
   "execution_count": 94,
   "metadata": {},
   "outputs": [
    {
     "output_type": "execute_result",
     "data": {
      "text/plain": "0"
     },
     "metadata": {},
     "execution_count": 94
    },
    {
     "output_type": "execute_result",
     "data": {
      "text/plain": "array([ 7,  6,  8,  5,  9,  4, 10,  3,  1,  2], dtype=int64)"
     },
     "metadata": {},
     "execution_count": 94
    }
   ],
   "source": [
    "###OverallQual  (house quality)\n",
    "train_raw_data.OverallQual.isnull().sum()\n",
    "train_raw_data.OverallQual.unique()   #already in number"
   ]
  },
  {
   "cell_type": "code",
   "execution_count": 95,
   "metadata": {},
   "outputs": [
    {
     "output_type": "execute_result",
     "data": {
      "text/plain": "0"
     },
     "metadata": {},
     "execution_count": 95
    },
    {
     "output_type": "execute_result",
     "data": {
      "text/plain": "array([5, 8, 6, 7, 4, 2, 3, 9, 1], dtype=int64)"
     },
     "metadata": {},
     "execution_count": 95
    }
   ],
   "source": [
    "### OverallCond (OVerall condition of the house)\n",
    "train_raw_data.OverallCond.isnull().sum()\n",
    "train_raw_data.OverallCond.unique()  #already in number"
   ]
  },
  {
   "cell_type": "code",
   "execution_count": 96,
   "metadata": {},
   "outputs": [],
   "source": [
    "###marging overallcond\n",
    "#OVerallCondComb\n",
    "train_raw_data['OverallCondComb']=train_raw_data['OverallQual']*train_raw_data['OverallCond']\n",
    "train_raw_data=train_raw_data.drop(['OverallQual','OverallCond'],axis=1)"
   ]
  },
  {
   "cell_type": "code",
   "execution_count": 97,
   "metadata": {
    "tags": []
   },
   "outputs": [
    {
     "output_type": "execute_result",
     "data": {
      "text/plain": "0"
     },
     "metadata": {},
     "execution_count": 97
    },
    {
     "output_type": "execute_result",
     "data": {
      "text/plain": "array(['RL', 'RM', 'C (all)', 'FV', 'RH'], dtype=object)"
     },
     "metadata": {},
     "execution_count": 97
    },
    {
     "output_type": "execute_result",
     "data": {
      "text/plain": "0"
     },
     "metadata": {},
     "execution_count": 97
    }
   ],
   "source": [
    "### Zonal sitution of the building\n",
    "train_raw_data.MSZoning.isnull().sum()\n",
    "train_raw_data['MSZoning'].unique()\n",
    "train_raw_data.MSZoning=train_raw_data.MSZoning.map({ 'A':3, \"C (all)\":20, 'FV':1, 'I':15,'RH':4, 'RL':10,'RP':8,'RM':6})\n",
    "#print(train_raw_data.MSZoning)\n",
    "train_raw_data.MSZoning.isnull().sum()\n"
   ]
  },
  {
   "cell_type": "code",
   "execution_count": 98,
   "metadata": {},
   "outputs": [
    {
     "output_type": "execute_result",
     "data": {
      "text/plain": "0"
     },
     "metadata": {},
     "execution_count": 98
    }
   ],
   "source": [
    "##Lot Area\n",
    "train_raw_data.LotArea.isnull().sum()  ## already in numerical"
   ]
  },
  {
   "cell_type": "code",
   "execution_count": 99,
   "metadata": {
    "tags": []
   },
   "outputs": [
    {
     "output_type": "execute_result",
     "data": {
      "text/plain": "0"
     },
     "metadata": {},
     "execution_count": 99
    },
    {
     "output_type": "execute_result",
     "data": {
      "text/plain": "array(['Reg', 'IR1', 'IR2', 'IR3'], dtype=object)"
     },
     "metadata": {},
     "execution_count": 99
    }
   ],
   "source": [
    "###Lotshape (Property shape (checking irregualirity))\n",
    "train_raw_data.LotShape.isnull().sum()\n",
    "train_raw_data.LotShape.unique()\n",
    "train_raw_data['LotShape']=train_raw_data.LotShape.map({'Reg':5,'IR1':4,'IR2':2,'IR3':1})\n",
    "#print(train_raw_data['LotShape'])"
   ]
  },
  {
   "cell_type": "code",
   "execution_count": 100,
   "metadata": {},
   "outputs": [
    {
     "output_type": "execute_result",
     "data": {
      "text/plain": "0"
     },
     "metadata": {},
     "execution_count": 100
    },
    {
     "output_type": "execute_result",
     "data": {
      "text/plain": "array(['Lvl', 'Bnk', 'Low', 'HLS'], dtype=object)"
     },
     "metadata": {},
     "execution_count": 100
    }
   ],
   "source": [
    "### LandCOntour (Flatness of the property neighbor)\n",
    "train_raw_data.LandContour.isnull().sum()\n",
    "train_raw_data.LandContour.unique()\n",
    "train_raw_data['LandContour']=train_raw_data.LandContour.map({ 'Lvl':4, 'Bnk':3, 'HLS':2,'Low':1})"
   ]
  },
  {
   "cell_type": "code",
   "execution_count": 101,
   "metadata": {},
   "outputs": [
    {
     "output_type": "execute_result",
     "data": {
      "text/plain": "0"
     },
     "metadata": {},
     "execution_count": 101
    },
    {
     "output_type": "execute_result",
     "data": {
      "text/plain": "array(['Gtl', 'Mod', 'Sev'], dtype=object)"
     },
     "metadata": {},
     "execution_count": 101
    }
   ],
   "source": [
    "###LandSlope (Slope of the property land (indside the property) )\n",
    "test_raw_data.LandSlope.isnull().sum()\n",
    "train_raw_data.LandSlope.unique()\n",
    "train_raw_data['LandSlope']=train_raw_data['LandSlope'].map({'Gtl':3,'Mod':2,'Sev':1})"
   ]
  },
  {
   "cell_type": "code",
   "execution_count": 102,
   "metadata": {},
   "outputs": [
    {
     "output_type": "execute_result",
     "data": {
      "text/plain": "1369"
     },
     "metadata": {},
     "execution_count": 102
    }
   ],
   "source": [
    "##Alley access to the property (road acces)\n",
    "train_raw_data.Alley.isnull().sum()  ### need to find the missing values"
   ]
  },
  {
   "cell_type": "code",
   "execution_count": 103,
   "metadata": {},
   "outputs": [
    {
     "output_type": "execute_result",
     "data": {
      "text/plain": "0"
     },
     "metadata": {},
     "execution_count": 103
    },
    {
     "output_type": "execute_result",
     "data": {
      "text/plain": "array(['Pave', 'Grvl'], dtype=object)"
     },
     "metadata": {},
     "execution_count": 103
    }
   ],
   "source": [
    "##Street type\n",
    "train_raw_data.Street.isnull().sum()\n",
    "train_raw_data.Street.unique()\n",
    "train_raw_data[\"Street\"]=train_raw_data.Street.map({ 'Grvl':1, 'Pave':2})"
   ]
  },
  {
   "cell_type": "code",
   "execution_count": 104,
   "metadata": {},
   "outputs": [
    {
     "output_type": "execute_result",
     "data": {
      "text/plain": "0"
     },
     "metadata": {},
     "execution_count": 104
    },
    {
     "output_type": "execute_result",
     "data": {
      "text/plain": "array(['AllPub', 'NoSeWa'], dtype=object)"
     },
     "metadata": {},
     "execution_count": 104
    }
   ],
   "source": [
    "###Utilities \n",
    "train_raw_data.Utilities.isnull().sum()\n",
    "train_raw_data.Utilities.unique()\n",
    "train_raw_data['Utilities']=train_raw_data.Utilities.map({'AllPub':4,'NOSewr':3,'NoSeWa':2,'ELO':1})"
   ]
  },
  {
   "cell_type": "code",
   "execution_count": 105,
   "metadata": {},
   "outputs": [
    {
     "output_type": "execute_result",
     "data": {
      "text/plain": "1"
     },
     "metadata": {},
     "execution_count": 105
    },
    {
     "output_type": "execute_result",
     "data": {
      "text/plain": "array(['SBrkr', 'FuseF', 'FuseA', 'FuseP', 'Mix'], dtype=object)"
     },
     "metadata": {},
     "execution_count": 105
    },
    {
     "output_type": "execute_result",
     "data": {
      "text/plain": "0"
     },
     "metadata": {},
     "execution_count": 105
    }
   ],
   "source": [
    "###Elcetrical system\n",
    "train_raw_data['Electrical'].isnull().sum()\n",
    "train_raw_data['Electrical']=train_raw_data['Electrical'].fillna(train_raw_data['Electrical'].value_counts().index[0])\n",
    "\n",
    "train_raw_data.Electrical.unique()\n",
    "\n",
    "train_raw_data['Electrical']=train_raw_data['Electrical'].map({'SBrkr':6,'FuseA':4,'FuseF':3,'FuseP':2,'Mix':5})\n",
    "train_raw_data['Electrical'].isnull().sum()"
   ]
  },
  {
   "cell_type": "code",
   "execution_count": 106,
   "metadata": {},
   "outputs": [
    {
     "output_type": "execute_result",
     "data": {
      "text/plain": "81"
     },
     "metadata": {},
     "execution_count": 106
    }
   ],
   "source": [
    "##GarageType (garage location)\n",
    "train_raw_data.GarageType.isnull().sum()\n",
    "#train_raw_data['']"
   ]
  },
  {
   "cell_type": "code",
   "execution_count": 107,
   "metadata": {
    "tags": []
   },
   "outputs": [
    {
     "output_type": "execute_result",
     "data": {
      "text/plain": "0"
     },
     "metadata": {},
     "execution_count": 107
    }
   ],
   "source": [
    "###GrageArea\n",
    "train_raw_data.GarageArea.isnull().sum()\n",
    "#already in numerical"
   ]
  },
  {
   "cell_type": "code",
   "execution_count": 108,
   "metadata": {},
   "outputs": [
    {
     "output_type": "execute_result",
     "data": {
      "text/plain": "81"
     },
     "metadata": {},
     "execution_count": 108
    }
   ],
   "source": [
    "###GarageQual\n",
    "train_raw_data.GarageQual.isnull().sum()"
   ]
  },
  {
   "cell_type": "code",
   "execution_count": 109,
   "metadata": {},
   "outputs": [
    {
     "output_type": "execute_result",
     "data": {
      "text/plain": "81"
     },
     "metadata": {},
     "execution_count": 109
    }
   ],
   "source": [
    "###GarageCond\n",
    "train_raw_data.GarageCond.isnull().sum()"
   ]
  },
  {
   "cell_type": "code",
   "execution_count": 110,
   "metadata": {
    "tags": []
   },
   "outputs": [
    {
     "output_type": "execute_result",
     "data": {
      "text/plain": "0"
     },
     "metadata": {},
     "execution_count": 110
    }
   ],
   "source": [
    "###Deck Area\n",
    "train_raw_data.WoodDeckSF.isnull().sum()\n",
    "#print(train_raw_data.WoodDeckSF)"
   ]
  },
  {
   "cell_type": "code",
   "execution_count": 111,
   "metadata": {},
   "outputs": [
    {
     "output_type": "execute_result",
     "data": {
      "text/plain": "0"
     },
     "metadata": {},
     "execution_count": 111
    },
    {
     "output_type": "execute_result",
     "data": {
      "text/plain": "0"
     },
     "metadata": {},
     "execution_count": 111
    },
    {
     "output_type": "execute_result",
     "data": {
      "text/plain": "0"
     },
     "metadata": {},
     "execution_count": 111
    },
    {
     "output_type": "execute_result",
     "data": {
      "text/plain": "0"
     },
     "metadata": {},
     "execution_count": 111
    }
   ],
   "source": [
    "### Total porcharea\n",
    "##OpenPorchSF, EnclosedPorch,3SsnPorch,ScreenPorch\n",
    "train_raw_data.OpenPorchSF.isnull().sum()\n",
    "train_raw_data.EnclosedPorch.isnull().sum()\n",
    "train_raw_data['3SsnPorch'].isnull().sum()\n",
    "train_raw_data['ScreenPorch'].isnull().sum()\n",
    "\n",
    "train_raw_data['TotalPorchArea']=train_raw_data['OpenPorchSF']+train_raw_data['EnclosedPorch']+train_raw_data['3SsnPorch']+train_raw_data['ScreenPorch']\n",
    "\n",
    "train_raw_data=train_raw_data.drop(['OpenPorchSF','3SsnPorch','ScreenPorch','EnclosedPorch'],axis=1)"
   ]
  },
  {
   "cell_type": "code",
   "execution_count": 112,
   "metadata": {},
   "outputs": [
    {
     "output_type": "execute_result",
     "data": {
      "text/plain": "0"
     },
     "metadata": {},
     "execution_count": 112
    },
    {
     "output_type": "execute_result",
     "data": {
      "text/plain": "1453"
     },
     "metadata": {},
     "execution_count": 112
    }
   ],
   "source": [
    "#pool and pool Qc\n",
    "train_raw_data.PoolArea.isnull().sum() \n",
    "train_raw_data.PoolQC.isnull().sum()  ####1453 data is missing so it is out of features\n"
   ]
  },
  {
   "cell_type": "code",
   "execution_count": 113,
   "metadata": {
    "tags": []
   },
   "outputs": [
    {
     "output_type": "execute_result",
     "data": {
      "text/plain": "1406"
     },
     "metadata": {},
     "execution_count": 113
    }
   ],
   "source": [
    "### MiscFeature\n",
    "train_raw_data.MiscFeature.isnull().sum()  ##will not add this"
   ]
  },
  {
   "cell_type": "code",
   "execution_count": 114,
   "metadata": {},
   "outputs": [
    {
     "output_type": "execute_result",
     "data": {
      "text/plain": "0"
     },
     "metadata": {},
     "execution_count": 114
    }
   ],
   "source": [
    "###MiscVal $vlaue of miscellaneous Feature\n",
    "train_raw_data.MiscVal.isnull().sum()"
   ]
  },
  {
   "cell_type": "code",
   "execution_count": 115,
   "metadata": {},
   "outputs": [
    {
     "output_type": "execute_result",
     "data": {
      "text/plain": "1179"
     },
     "metadata": {},
     "execution_count": 115
    }
   ],
   "source": [
    "###Fence\n",
    "train_raw_data.Fence.isnull().sum()  # need to find out the missing data  #till now leave it"
   ]
  },
  {
   "cell_type": "code",
   "execution_count": null,
   "metadata": {},
   "outputs": [],
   "source": []
  },
  {
   "cell_type": "code",
   "execution_count": 116,
   "metadata": {},
   "outputs": [],
   "source": [
    "###building new data frame\n",
    "New_data_frame={\n",
    "\n",
    "'MSZoning':train_raw_data['MSZoning'],\n",
    "'Street':train_raw_data['Street'],\n",
    "#'Alley':train_raw_data['Alley'],\n",
    "\n",
    "'MSSubClass':train_raw_data['MSSubClass'],\n",
    "'LotArea':train_raw_data['LotArea'],\n",
    "'LandSlope':train_raw_data['LandSlope'],\n",
    "\n",
    "\n",
    "'BldgType':train_raw_data['BldgType'],\n",
    "'HouseStyle':train_raw_data['HouseStyle'],\n",
    "'RoofStyle':train_raw_data['RoofStyle'],\n",
    "'RoofMatl':train_raw_data['RoofMatl'],\n",
    "'ExteriorComb':train_raw_data[\"ExteriorComb\"],  #exterior metal comb  \n",
    "'ExteriorCondComb':train_raw_data['ExteriorCondComb'], #exterior quality comb\n",
    "'MasVnrType':train_raw_data['MasVnrType'],\n",
    "'MasVnrArea':train_raw_data['MasVnrArea'],\n",
    "'Foundation':train_raw_data['Foundation'],\n",
    "'BsmtCondComb':train_raw_data['BsmtCondComb'],\n",
    "'TotalBsmtSF':train_raw_data['TotalBsmtSF'],\n",
    "\n",
    "\n",
    "'LowQualFinSF':train_raw_data['LowQualFinSF'],\n",
    "'GrLivArea':train_raw_data['GrLivArea'],\n",
    "\n",
    "'BedroomAbvGr':train_raw_data['BedroomAbvGr'],\n",
    "'TotRmsAbvGrd':train_raw_data['TotRmsAbvGrd'],\n",
    "\n",
    "'KitchenAbvGr':train_raw_data['KitchenAbvGr'],\n",
    "'KitchenQual':train_raw_data['KitchenQual'],\n",
    "\n",
    "#'FullBath':train_raw_data['FullBath']\n",
    "#'HalfBath':train_raw_data['HalfBath']\n",
    "'TotalBaths':train_raw_data['TotalBaths'],\n",
    "\n",
    "'1stFlrSF':train_raw_data['1stFlrSF'],\n",
    "'2ndFlrSF':train_raw_data['2ndFlrSF'],\n",
    "\n",
    "'FireplaceComb':train_raw_data['FireplaceComb'],\n",
    "'HeatingCOmb':train_raw_data['HeatingComb'],\n",
    "'CentralAir':train_raw_data['CentralAir'],\n",
    "\n",
    "'TotalPorchArea':train_raw_data['TotalPorchArea'],\n",
    "'WoodDeckSF':train_raw_data['WoodDeckSF'],\n",
    "'GarageArea':train_raw_data['GarageArea'],\n",
    "'PoolArea':train_raw_data['PoolArea'],\n",
    "\n",
    "'Utilities':train_raw_data['Utilities'],\n",
    "'Electrical':train_raw_data['Electrical'],\n",
    "'MiscVal':train_raw_data['MiscVal'],\n",
    "\n",
    "'SaleType':train_raw_data['SaleType'],\n",
    "'SaleCondition':train_raw_data['SaleCondition'],\n",
    "\n",
    "\n",
    "'OverallCondComb':train_raw_data['OverallCondComb']\n",
    "\n",
    "}\n",
    "\n",
    "\n"
   ]
  },
  {
   "cell_type": "code",
   "execution_count": 117,
   "metadata": {},
   "outputs": [],
   "source": [
    "##creating the data frame and save it\n",
    "New_data=pd.DataFrame(data=New_data_frame)\n",
    "\n",
    "New_data.to_csv('New_data_frame.csv')\n",
    "C1=New_data.isnull().sum()\n",
    "C1.to_csv('C1.csv',index=True)"
   ]
  },
  {
   "cell_type": "code",
   "execution_count": 118,
   "metadata": {},
   "outputs": [
    {
     "output_type": "execute_result",
     "data": {
      "text/plain": "0       3\n1       3\n2       3\n3       3\n4       4\n       ..\n1455    3\n1456    3\n1457    4\n1458    2\n1459    3\nName: BedroomAbvGr, Length: 1460, dtype: int64"
     },
     "metadata": {},
     "execution_count": 118
    },
    {
     "output_type": "execute_result",
     "data": {
      "text/plain": "0       3\n1       3\n2       3\n3       3\n4       4\n       ..\n1455    3\n1456    3\n1457    4\n1458    2\n1459    3\nName: BedroomAbvGr, Length: 1460, dtype: int64"
     },
     "metadata": {},
     "execution_count": 118
    },
    {
     "output_type": "execute_result",
     "data": {
      "text/plain": "0"
     },
     "metadata": {},
     "execution_count": 118
    }
   ],
   "source": [
    "train_raw_data['BedroomAbvGr']\n",
    "train_raw_data['BedroomAbvGr']\n",
    "train_raw_data['TotalBsmtSF'].isnull().sum()"
   ]
  },
  {
   "cell_type": "code",
   "execution_count": null,
   "metadata": {},
   "outputs": [],
   "source": []
  },
  {
   "cell_type": "code",
   "execution_count": null,
   "metadata": {},
   "outputs": [],
   "source": []
  }
 ],
 "metadata": {
  "language_info": {
   "codemirror_mode": {
    "name": "ipython",
    "version": 3
   },
   "file_extension": ".py",
   "mimetype": "text/x-python",
   "name": "python",
   "nbconvert_exporter": "python",
   "pygments_lexer": "ipython3",
   "version": "3.8.3-final"
  },
  "orig_nbformat": 2,
  "kernelspec": {
   "name": "python38364bitcc0d41f40e174e64af276bd934e9c702",
   "display_name": "Python 3.8.3 64-bit"
  }
 },
 "nbformat": 4,
 "nbformat_minor": 2
}